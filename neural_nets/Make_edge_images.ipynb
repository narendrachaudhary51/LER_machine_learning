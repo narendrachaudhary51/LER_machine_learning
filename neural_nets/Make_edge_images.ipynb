{
 "cells": [
  {
   "cell_type": "code",
   "execution_count": 1,
   "metadata": {},
   "outputs": [
    {
     "name": "stderr",
     "output_type": "stream",
     "text": [
      "Using TensorFlow backend.\n"
     ]
    }
   ],
   "source": [
    "import tensorflow as tf\n",
    "import numpy as np\n",
    "import math\n",
    "import timeit\n",
    "import matplotlib.pyplot as plt\n",
    "import keras\n",
    "from keras.models import Sequential,load_model\n",
    "from keras.layers import Dense, Dropout, Activation, Flatten, Conv2D, MaxPooling2D, BatchNormalization\n",
    "from keras.constraints import max_norm\n",
    "from PIL import Image\n",
    "import keras.backend as K\n",
    "from multi_gpu import make_parallel\n",
    "import time\n",
    "from random import shuffle\n",
    "path = '/home/grads/n/narendra5/Desktop/Programs/LER_machine_learning/'"
   ]
  },
  {
   "cell_type": "code",
   "execution_count": 2,
   "metadata": {},
   "outputs": [],
   "source": [
    "\n",
    "sigmas = [0.4, 0.6, 0.8, 1.0, 1.2, 1.4, 1.6]\n",
    "alphas = [0.1, 0.2, 0.3, 0.4, 0.5, 0.6, 0.7, 0.8, 0.9]\n",
    "Xis = [6,8,10,12,14,16,18,20,22,24,26,28,30,32,34,36,38,40]\n",
    "widths = [20, 30]\n",
    "\n",
    "for sigma in sigmas:\n",
    "    for alpha in alphas:\n",
    "        for Xi in Xis:\n",
    "            for width in widths:\n",
    "                for s in range(2):\n",
    "                    space = math.floor(width*2**s)\n",
    "                    shift = math.floor(-25 + (width + space/2 + Xi + alpha*10 + sigma*10)%16) \n",
    "\n",
    "                    original_file = path + 'original_images4/oim_' + \"{:.2g}\".format(sigma*1e-09) + '_' + str(alpha) + '_' + \"{0:.2g}\".format(Xi*1e-09) + '_' + str(width) + '_' + str(space) + '_' + str(-shift) + '.tiff'\n",
    "                    linescan_file = path + 'linescans/linescan_' + \"{:.2g}\".format(sigma*1e-09) + '_' + str(alpha) + '_' + \"{0:.2g}\".format(Xi*1e-09) + '_' + str(width) + '_' + str(space) + '.txt'\n",
    "\n",
    "                    linescan = []\n",
    "                    with open(linescan_file,'r') as f:\n",
    "                        for i,line in enumerate(f):\n",
    "                            if i < 14336:\n",
    "                                a, b = line.split(',')\n",
    "                                linescan.append(float(b))\n",
    "                            else:\n",
    "                                break\n",
    "\n",
    "                    linescan = np.array(linescan)\n",
    "                    linescan = linescan + shift\n",
    "                    linescan = linescan.round().astype(int)\n",
    "                    edgeimage = np.zeros((1024,256))\n",
    "                    for k in range(14):                                  #for k edges\n",
    "                        if k%2 == 0:                                    #keep even edges same \n",
    "                            edge = linescan[k*1024:(k+1)*1024]\n",
    "                        else:\n",
    "                            edge = np.flip(linescan[k*1024:(k+1)*1024],0)  #flip odd edges\n",
    "\n",
    "                        for i in range(1024):\n",
    "                            if edge[i] >= 0 and edge[i] <= 255:\n",
    "                                edgeimage[i, edge[i]] = 1\n",
    "                                edgeimage[i, edge[i]] = 1\n",
    "\n",
    "                    edge_file = path + 'edge_images4/eim_' + \"{:.2g}\".format(sigma*1e-09) + '_' + str(alpha) + '_' + \"{0:.2g}\".format(Xi*1e-09) + '_' + str(width) + '_' + str(space) + '_' + str(-shift) + '.tiff'\n",
    "                    im = Image.fromarray(edgeimage)\n",
    "                    im.save(edge_file)"
   ]
  },
  {
   "cell_type": "code",
   "execution_count": 13,
   "metadata": {},
   "outputs": [
    {
     "name": "stdout",
     "output_type": "stream",
     "text": [
      "(1024, 256)\n",
      "[  0   0   0   0   0   0   0   0   0   0   0   0   0   0   0   0   0   0\n",
      "   0   0   0   0   0   0   0   0   0   0   0   0   0   0   0   0   0   0\n",
      "   0   0   0   0   0   0   0   0   0   0   0   0   0   0   0   0   0   0\n",
      "   0   0   0   0   0   0   0   0   0   0   0   0   0   0   0   0   0   0\n",
      "   0   0   0   0   0   0   0   0   0   0 255 255 255 255 255 255   0   0\n",
      "   0   0 255 255 255 255 255   0   0   0   0   0   0   0   0   0   0   0\n",
      "   0   0   0   0   0   0   0   0   0   0   0   0   0   0   0   0   0   0\n",
      "   0   0   0   0   0   0   0   0   0   0   0   0   0   0   0   0   0   0\n",
      "   0   0   0   0   0   0   0   0   0   0   0   0   0   0   0   0   0   0\n",
      "   0   0   0   0   0   0   0   0   0   0   0 255 255   0   0   0   0   0\n",
      "   0   0 255   0   0   0   0   0   0   0   0   0   0   0   0   0   0   0\n",
      "   0   0   0   0   0   0   0   0   0   0   0   0   0   0   0   0   0   0\n",
      "   0   0   0   0   0   0   0   0   0   0   0   0   0   0   0   0   0   0\n",
      "   0   0   0   0   0   0   0   0   0   0   0   0   0   0   0   0   0   0\n",
      "   0   0   0   0]\n"
     ]
    },
    {
     "data": {
      "image/png": "[encoded data removed]",
      "text/plain": [
       "<matplotlib.figure.Figure at 0x7f5bf8482b00>"
      ]
     },
     "metadata": {},
     "output_type": "display_data"
    },
    {
     "name": "stdout",
     "output_type": "stream",
     "text": [
      "0\n"
     ]
    }
   ],
   "source": [
    "sigma = 1.0\n",
    "alpha = 0.5\n",
    "Xi = 30\n",
    "width = 20\n",
    "space = 20\n",
    "shift = math.floor(-25 + (width + space/2 + Xi + alpha*10 + sigma*10)%16)\n",
    "#edge_file = path + 'edge_images4/eim_' + \"{:.2g}\".format(sigma*1e-09) + '_' + \\\n",
    "#                    str(alpha) + '_' + \"{0:.2g}\".format(Xi*1e-09) + '_' + \\\n",
    "#                    str(width) + '_' + str(space) + '_' + str(-shift) + '.tiff'\n",
    "edge_file = path + 'Artimagen_code/rough_curve.tiff'\n",
    "edge_im = np.array(Image.open(edge_file))\n",
    "print(edge_im.shape)\n",
    "print(edge_im[100,:])\n",
    "plt.figure(figsize = (15,15))\n",
    "plt.imshow(edge_im, cmap ='gray')\n",
    "plt.show()\n",
    "\n",
    "print(np.sum(np.logical_and((edge_im > 0),(edge_im < 255))))"
   ]
  },
  {
   "cell_type": "code",
   "execution_count": null,
   "metadata": {},
   "outputs": [],
   "source": []
  }
 ],
 "metadata": {
  "kernelspec": {
   "display_name": "Python 3",
   "language": "python",
   "name": "python3"
  },
  "language_info": {
   "codemirror_mode": {
    "name": "ipython",
    "version": 3
   },
   "file_extension": ".py",
   "mimetype": "text/x-python",
   "name": "python",
   "nbconvert_exporter": "python",
   "pygments_lexer": "ipython3",
   "version": "3.5.2"
  }
 },
 "nbformat": 4,
 "nbformat_minor": 2
}
