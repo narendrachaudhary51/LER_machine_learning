{
 "cells": [
  {
   "cell_type": "code",
   "execution_count": 23,
   "metadata": {
    "collapsed": true
   },
   "outputs": [],
   "source": [
    "import numpy as np\n",
    "import matplotlib.pyplot as plt\n",
    "%matplotlib inline"
   ]
  },
  {
   "cell_type": "code",
   "execution_count": null,
   "metadata": {
    "collapsed": true
   },
   "outputs": [],
   "source": [
    "Gram_matrix = np.load(r\"C:\\\\Users\\\\narendra\\\\Documents\\\\LER\\\\LER_machine_learning\\\\Gram\\\\LineNet1_Gram_matrices_1.4.npz\")\\\n",
    "                        ['Gram_sigma']\n",
    "\n",
    "Gram_matrix_2 = np.load(r\"C:\\\\Users\\\\narendra\\\\Documents\\\\LER\\\\LER_machine_learning\\\\Gram\\\\LineNet1_Gram_matrices_0.8.npz\")\\\n",
    "                        ['Gram_sigma']"
   ]
  },
  {
   "cell_type": "code",
   "execution_count": null,
   "metadata": {
    "collapsed": false
   },
   "outputs": [],
   "source": [
    "print(Gram_matrix.shape)\n",
    "print(Gram_matrix[0,0,0,0,0,1,:,:])\n",
    "\n",
    "Xis = [10, 30, 40]\n",
    "alphas = [0.1, 0.2, 0.3, 0.4, 0.5, 0.6, 0.7, 0.8, 0.9]\n",
    "widths = [20, 30]\n",
    "noises = [2, 3, 4, 5, 10, 20, 30, 50, 100, 200]"
   ]
  },
  {
   "cell_type": "code",
   "execution_count": null,
   "metadata": {
    "collapsed": false
   },
   "outputs": [],
   "source": [
    "Gram_norm = np.zeros(Gram_matrix.shape[:-2])\n",
    "Gram_norm_2 = np.zeros(Gram_matrix_2.shape[:-2])\n",
    "\n",
    "Gram_diff_norm = np.zeros(Gram_matrix.shape[:-2])\n",
    "print(Gram_norm.shape)\n",
    "\n",
    "for a in range(Gram_norm.shape[0]):\n",
    "    for x in range(Gram_norm.shape[1]):\n",
    "        for w in range(Gram_norm.shape[2]):\n",
    "            for s in range(Gram_norm.shape[3]):\n",
    "                for n in range(Gram_norm.shape[4]):\n",
    "                    for i in range(Gram_norm.shape[5]):\n",
    "                        #Gram_norm[a,x,w,s,n,i] = np.linalg.norm(Gram_matrix[a,x,w,s,n,i,:,:],'fro')\n",
    "                        #Gram_norm_2[a,x,w,s,n,i] = np.linalg.norm(Gram_matrix_2[a,x,w,s,n,i,:,:],'fro')\n",
    "                        #Gram_diff_norm[a,x,w,s,n,i] = np.linalg.norm(Gram_matrix[a,x,w,s,n,i,:,:] - Gram_matrix_2[a,x,w,s,n,i,:,:],'fro')\n",
    "                        Gram_norm[a,x,w,s,n,i] = np.linalg.norm(Gram_matrix[a,x,w,s,n,i,:,:],'fro') / (2*64*65536)\n",
    "                        Gram_norm_2[a,x,w,s,n,i] = np.linalg.norm(Gram_matrix_2[a,x,w,s,n,i,:,:],'fro') / (2*64*65536)\n",
    "                        Gram_diff_norm[a,x,w,s,n,i] = np.linalg.norm(Gram_matrix[a,x,w,s,n,i,:,:] - Gram_matrix_2[a,x,w,s,n,i,:,:],'fro') / (2*64*65536)"
   ]
  },
  {
   "cell_type": "code",
   "execution_count": null,
   "metadata": {
    "collapsed": false
   },
   "outputs": [],
   "source": [
    "x_axis = np.arange(1,17)\n",
    "\n",
    "plt.figure(figsize = (16,7))\n",
    "for i in range(10):\n",
    "    plt.plot(x_axis, Gram_norm[4,0,0,0,i,:], '-o', label = noises[i])\n",
    "\n",
    "plt.legend(fontsize=14)\n",
    "#plt.ylim(0,2.2e8)\n",
    "plt.ylim(0,25)\n",
    "plt.title('Noise plot', fontsize = 16)\n",
    "plt.xlabel('Layer number', fontsize=14)\n",
    "plt.ylabel('Scaled Frobenius norm of the Gram matrix', fontsize=14)\n",
    "plt.show()\n",
    "\n",
    "plt.figure(figsize = (16,7))\n",
    "for i in range(10):\n",
    "    plt.plot(x_axis,Gram_norm_2[2,0,0,0,i,:], '-o', label = noises[i])\n",
    "\n",
    "plt.legend(fontsize=14)\n",
    "#plt.ylim(0,2.2e8)\n",
    "plt.ylim(0,25)\n",
    "plt.title('Noise plot', fontsize = 16)\n",
    "plt.xlabel('Layer number', fontsize=14)\n",
    "plt.ylabel('Scaled Frobenius norm of the Gram matrix', fontsize=14)\n",
    "plt.show()\n",
    "\n",
    "plt.figure(figsize = (16,7))\n",
    "for i in range(10):\n",
    "    plt.plot(x_axis, Gram_diff_norm[4,0,0,0,i,:], '-o', label = noises[i])\n",
    "\n",
    "plt.legend(fontsize=14)\n",
    "#plt.ylim(0,2.2e8)\n",
    "plt.ylim(0,25)\n",
    "plt.title('Noise plot', fontsize = 16)\n",
    "plt.xlabel('Layer number', fontsize=14)\n",
    "plt.ylabel('Scaled Frobenius norm of the difference Gram matrix', fontsize=14)\n",
    "plt.show()"
   ]
  },
  {
   "cell_type": "code",
   "execution_count": null,
   "metadata": {
    "collapsed": false
   },
   "outputs": [],
   "source": [
    "plt.figure(figsize = (16,7))\n",
    "for i in range(9):\n",
    "    plt.plot(Gram_norm[i,0,0,0,8,:], '-o', label = alphas[i])\n",
    "\n",
    "plt.legend(fontsize=14)\n",
    "#plt.ylim(0,2.2e8)\n",
    "plt.ylim(0,25)\n",
    "plt.title('Alpha plot', fontsize = 16)\n",
    "plt.xlabel('Layer number', fontsize=14)\n",
    "plt.ylabel('Scaled Frobenius norm of the Gram matrix', fontsize=14)\n",
    "plt.show()\n",
    "\n",
    "plt.figure(figsize = (16,7))\n",
    "for i in range(9):\n",
    "    plt.plot(Gram_norm_2[i,0,0,0,5,:], '-o', label = alphas[i])\n",
    "\n",
    "plt.legend(fontsize=14)\n",
    "#plt.ylim(0,2.2e8)\n",
    "plt.ylim(0,25)\n",
    "plt.title('Alpha plot', fontsize = 16)\n",
    "plt.xlabel('Layer number', fontsize=14)\n",
    "plt.ylabel('Scaled Frobenius norm of the Gram matrix', fontsize=14)\n",
    "plt.show()\n",
    "\n",
    "plt.figure(figsize = (16,7))\n",
    "for i in range(9):\n",
    "    plt.plot(Gram_diff_norm[i,0,0,0,5,:], '-o', label = alphas[i])\n",
    "\n",
    "plt.legend(fontsize=14)\n",
    "#plt.ylim(0,2.2e8)\n",
    "plt.ylim(0,25)\n",
    "plt.title('Alpha plot', fontsize = 16)\n",
    "plt.xlabel('Layer number', fontsize=14)\n",
    "plt.ylabel('Scaled Frobenius norm of the difference of Gram matrix', fontsize=14)\n",
    "plt.show()"
   ]
  },
  {
   "cell_type": "code",
   "execution_count": null,
   "metadata": {
    "collapsed": false
   },
   "outputs": [],
   "source": [
    "plt.figure(figsize = (16,7))\n",
    "for i in range(2):\n",
    "    plt.plot(Gram_norm[5,0,i,0,5,:], '-o', label = widths[i])\n",
    "\n",
    "plt.legend(fontsize=14)\n",
    "#plt.ylim(0,2.2e8)\n",
    "plt.ylim(0,25)\n",
    "plt.title('Width plot', fontsize = 16)\n",
    "plt.xlabel('Layer number', fontsize=14)\n",
    "plt.ylabel('Scaled Frobenius norm of the Gram matrix', fontsize=14)\n",
    "plt.show()\n",
    "\n",
    "plt.figure(figsize = (16,7))\n",
    "for i in range(2):\n",
    "    plt.plot(Gram_norm_2[5,0,i,0,5,:], '-o', label = widths[i])\n",
    "\n",
    "plt.legend(fontsize=14)\n",
    "#plt.ylim(0,2.2e8)\n",
    "plt.ylim(0,25)\n",
    "plt.title('Width plot', fontsize = 16)\n",
    "plt.xlabel('Layer number', fontsize=14)\n",
    "plt.ylabel('Scaled Frobenius norm of the Gram matrix', fontsize=14)\n",
    "plt.show()\n",
    "\n",
    "plt.figure(figsize = (16,7))\n",
    "for i in range(2):\n",
    "    plt.plot(Gram_diff_norm[5,0,i,0,5,:], '-o', label = widths[i])\n",
    "\n",
    "plt.legend(fontsize=14)\n",
    "#plt.ylim(0,2.2e8)\n",
    "plt.ylim(0,25)\n",
    "plt.title('Width plot', fontsize = 16)\n",
    "plt.xlabel('Layer number', fontsize=14)\n",
    "plt.ylabel('Scaled Frobenius norm of the difference of Gram matrix', fontsize=14)\n",
    "plt.show()"
   ]
  },
  {
   "cell_type": "code",
   "execution_count": null,
   "metadata": {
    "collapsed": false
   },
   "outputs": [],
   "source": [
    "plt.figure(figsize = (16,7))\n",
    "for i in range(3):\n",
    "    plt.plot(Gram_norm[4,i,0,0,5,:], '-o', label = Xis[i])\n",
    "\n",
    "plt.legend(fontsize=14)\n",
    "#plt.ylim(0,2.2e8)\n",
    "plt.ylim(0,25)\n",
    "plt.title('Xi plot', fontsize = 16)\n",
    "plt.xlabel('Layer number', fontsize=14)\n",
    "plt.ylabel('Scaled Frobenius norm of the Gram matrix', fontsize=14)\n",
    "plt.show()\n",
    "\n",
    "plt.figure(figsize = (16,7))\n",
    "for i in range(3):\n",
    "    plt.plot(Gram_norm_2[4,i,0,0,5,:], '-o', label = Xis[i])\n",
    "\n",
    "plt.legend(fontsize=14)\n",
    "#plt.ylim(0,2.2e8)\n",
    "plt.ylim(0,25)\n",
    "plt.title('Xi plot', fontsize = 16)\n",
    "plt.xlabel('Layer number', fontsize=14)\n",
    "plt.ylabel('Scaled Frobenius norm of the Gram matrix', fontsize=14)\n",
    "plt.show()\n",
    "\n",
    "plt.figure(figsize = (16,7))\n",
    "for i in range(3):\n",
    "    plt.plot(Gram_diff_norm[4,i,0,0,5,:], '-o', label = Xis[i])\n",
    "\n",
    "plt.legend(fontsize=14)\n",
    "#plt.ylim(0,2.2e8)\n",
    "plt.ylim(0,25)\n",
    "plt.title('Xi plot', fontsize = 16)\n",
    "plt.xlabel('Layer number', fontsize=14)\n",
    "plt.ylabel('Scaled Frobenius norm of the difference of Gram matrix', fontsize=14)\n",
    "plt.show()"
   ]
  },
  {
   "cell_type": "code",
   "execution_count": null,
   "metadata": {
    "collapsed": false
   },
   "outputs": [],
   "source": [
    "plt.figure(figsize = (16,7))\n",
    "diff_norm = np.zeros((16))\n",
    "for i in range(16):\n",
    "    diff_norm[i] = np.linalg.norm(Gram_matrix[4,0,0,0,0,i,:,:] - Gram_matrix[4,0,0,0,8,i,:,:],'fro')\n",
    "plt.plot(diff_norm, '-o')\n",
    "\n",
    "#for i in range(16):\n",
    "#    diff_norm[i] = np.linalg.norm(Gram_matrix[0,0,0,0,0,i,:,:] - Gram_matrix[8,0,0,0,0,i,:,:],'fro')\n",
    "#plt.plot(diff_norm, '-o')\n",
    "\n",
    "plt.legend(fontsize=14)\n",
    "#plt.ylim(0,2.2e8)\n",
    "plt.ylim(0,25)\n",
    "plt.title('plot', fontsize = 16)\n",
    "plt.xlabel('Layer number', fontsize=14)\n",
    "plt.ylabel('Scaled Frobenius norm of the difference of Gram matrix', fontsize=14)\n",
    "plt.show()"
   ]
  },
  {
   "cell_type": "code",
   "execution_count": null,
   "metadata": {
    "collapsed": true
   },
   "outputs": [],
   "source": []
  }
 ],
 "metadata": {
  "kernelspec": {
   "display_name": "Python 3",
   "language": "python",
   "name": "python3"
  },
  "language_info": {
   "codemirror_mode": {
    "name": "ipython",
    "version": 3
   },
   "file_extension": ".py",
   "mimetype": "text/x-python",
   "name": "python",
   "nbconvert_exporter": "python",
   "pygments_lexer": "ipython3",
   "version": "3.5.3"
  }
 },
 "nbformat": 4,
 "nbformat_minor": 0
}
