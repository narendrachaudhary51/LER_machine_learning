{
 "cells": [
  {
   "cell_type": "code",
   "execution_count": 1,
   "metadata": {
    "collapsed": false
   },
   "outputs": [
    {
     "name": "stderr",
     "output_type": "stream",
     "text": [
      "Using TensorFlow backend.\n"
     ]
    }
   ],
   "source": [
    "import tensorflow as tf\n",
    "import numpy as np\n",
    "import math\n",
    "import timeit\n",
    "import matplotlib.pyplot as plt\n",
    "import keras\n",
    "from keras.models import Sequential,load_model\n",
    "from keras.layers import Dense, Dropout, Activation, Flatten, Conv2D, MaxPooling2D, BatchNormalization\n",
    "from PIL import Image\n",
    "import skimage\n",
    "\n",
    "from skimage import measure"
   ]
  },
  {
   "cell_type": "code",
   "execution_count": 2,
   "metadata": {
    "collapsed": false
   },
   "outputs": [],
   "source": [
    "#path = '/home/grads/n/narendra5/Desktop/Programs/LER_machine_learning/'\n",
    "path = r\"C:\\\\Users\\\\narendra\\\\Documents\\\\LER\\\\\"\n",
    "\n",
    "#model = load_model(path + 'models/' + 'EDGEnet_run_epoch_4.h5')\n",
    "\n",
    "model = load_model(path + 'LER_machine_learning\\\\models\\\\' + 'Linenet_round_L1_epoch_4.h5')"
   ]
  },
  {
   "cell_type": "code",
   "execution_count": 3,
   "metadata": {
    "collapsed": false
   },
   "outputs": [],
   "source": [
    "sigma = 1.6\n",
    "alpha = 0.6\n",
    "Xi = 30\n",
    "width = 20\n",
    "space = 40\n",
    "noise = 2\n",
    "shift = math.floor(-25 + (width + space/2 + Xi + alpha*10 + sigma*10)%16) \n",
    "\n",
    "original_file = path + 'original_images2\\\\oim_' + \"{:.2g}\".format(sigma*1e-09) + '_' + str(alpha) + '_' + \"{0:.2g}\".format(Xi*1e-09) + '_' + str(width) + '_' + str(space) + '_' + str(-shift) + '.tiff'\n",
    "noisy_file = path + 'noisy_images2\\\\nim_' + \"{0:.2g}\".format(sigma*1e-09) + '_' + str(alpha) + '_' + \"{0:.2g}\".format(Xi*1e-09) + '_' + str(width) + '_' + str(space) + '_' + str(-shift) + '_' + str(noise) + '.tiff'\n",
    "\n",
    "im = np.array(Image.open(original_file))\n",
    "im = im/256\n",
    "\n",
    "imnoisy = np.array(Image.open(noisy_file))\n",
    "imnoisy = (imnoisy)/256\n",
    "imnoisy = imnoisy.reshape(1,1024,64,1)\n",
    "\n",
    "predict = model.predict(imnoisy)\n",
    "\n",
    "imnoisy = imnoisy.reshape(1024,64)\n",
    "predict = predict.reshape(1024,64,2)"
   ]
  },
  {
   "cell_type": "code",
   "execution_count": null,
   "metadata": {
    "collapsed": false
   },
   "outputs": [],
   "source": [
    "%matplotlib inline\n",
    "fig, ax = plt.subplots(nrows=1, ncols=3, figsize=(16, 8), sharex=True,\n",
    "                       sharey=True, subplot_kw={'adjustable': 'box-forced'})\n",
    "\n",
    "psnr_noisy = measure.compare_psnr(im,imnoisy.astype(float))\n",
    "psnr_predict = measure.compare_psnr(im,predict[:,:,0].astype(float))\n",
    "print('PSNR noisy image = ', psnr_noisy)\n",
    "print('PSNR predicted image = ', psnr_predict)\n",
    "\n",
    "ax[0].imshow(imnoisy,cmap = 'gray',aspect= 0.2)\n",
    "ax[0].set_title('Noisy Image: Level = {},\\n PSNR = {}'.format(noise, psnr_noisy))\n",
    "\n",
    "\n",
    "ax[1].imshow(predict[:,:,0], cmap = 'gray',aspect= 0.2)\n",
    "ax[1].set_title('Predicted Denoised Image \\n PSNR = {}'.format(psnr_predict))\n",
    "\n",
    "ax[2].imshow(predict[:,:,1], cmap = 'gray',aspect= 0.2)\n",
    "ax[2].set_title('Predicted Edge Image')\n",
    "\n",
    "plt.show()\n"
   ]
  },
  {
   "cell_type": "code",
   "execution_count": null,
   "metadata": {
    "collapsed": false
   },
   "outputs": [],
   "source": [
    "from scipy.signal import argrelextrema    # To get maxima\n",
    "print(argrelextrema(predict[10,:,1], np.greater))\n",
    "plt.plot(predict[8,:,1], 'o')           # plot one row of edge image\n",
    "plt.show()"
   ]
  },
  {
   "cell_type": "code",
   "execution_count": null,
   "metadata": {
    "collapsed": true
   },
   "outputs": [],
   "source": [
    "predict[:,:,1] = predict[:,:,1] > 0.1\n",
    "leftline_pred = np.argmax(predict[:,:,1],axis = 1)\n",
    "rightline_pred = np.argmax(np.fliplr(predict[:,:,1]),axis = 1)\n",
    "rightline_pred = 63 - rightline_pred"
   ]
  },
  {
   "cell_type": "code",
   "execution_count": null,
   "metadata": {
    "collapsed": false
   },
   "outputs": [],
   "source": [
    "linescan_file = path + 'linescans/linescan_' + \"{:.2g}\".format(sigma*1e-09) + '_' + str(alpha) + '_' + \"{0:.2g}\".format(Xi*1e-09) + '_' + str(width) + '_' + str(space) + '.txt'\n",
    "linescan = []\n",
    "with open(linescan_file,'r') as f:\n",
    "    for i, line in enumerate(f):\n",
    "        if i < 3000:\n",
    "            a, b = line.split(',')\n",
    "            linescan.append(float(b))\n",
    "\n",
    "\n",
    "linescan = linescan[:2048]\n",
    "\n",
    "leftline = np.array(linescan[:1024]) \n",
    "rightline = linescan[1024:]\n",
    "rightline.reverse()\n",
    "rightline = np.array(rightline)\n",
    "\n",
    "leftline = leftline + shift\n",
    "rightline = rightline + shift\n",
    "\n",
    "\n",
    "fig, ax = plt.subplots(nrows=2, ncols=2, figsize=(16, 8), sharex=True,\n",
    "                       sharey=False, subplot_kw={'adjustable': 'box-forced'})\n",
    "\n",
    "print('Original leftline sigma = {}, rightline sigma = {}'.format(leftline.round().std()/2, \\\n",
    "                                                                  rightline.round().std()/2))\n",
    "\n",
    "print('Predicted leftline sigma = {}, rightline sigma = {}'.format(leftline_pred.std()/2, \\\n",
    "                                                                  rightline_pred.std()/2))\n",
    "\n",
    "print(np.abs(leftline.round() - leftline_pred).sum())\n",
    "print(np.abs(rightline.round() - rightline_pred).sum())\n",
    "\n",
    "ax[0,0].plot(leftline.round())\n",
    "ax[0,0].plot(rightline.round())\n",
    "ax[0,0].set_title('Original linescans')\n",
    "\n",
    "ax[0,1].plot(leftline_pred)\n",
    "ax[0,1].plot(rightline_pred)\n",
    "ax[0,1].set_title('Predicted linescans')\n",
    "\n",
    "ax[1,0].plot(leftline.round() - leftline_pred)\n",
    "ax[1,0].set_title('Left linescan Error')\n",
    "\n",
    "ax[1,1].plot(rightline.round() - rightline_pred)\n",
    "ax[1,1].set_title('Right linescan Error')\n",
    "plt.show()"
   ]
  },
  {
   "cell_type": "code",
   "execution_count": null,
   "metadata": {
    "collapsed": false
   },
   "outputs": [],
   "source": [
    "plt.imshow(np.abs(im - predict[:,:,0]), cmap = 'gray',aspect= 0.2)\n",
    "plt.show()"
   ]
  },
  {
   "cell_type": "code",
   "execution_count": null,
   "metadata": {
    "collapsed": true
   },
   "outputs": [],
   "source": []
  }
 ],
 "metadata": {
  "kernelspec": {
   "display_name": "Python 3",
   "language": "python",
   "name": "python3"
  },
  "language_info": {
   "codemirror_mode": {
    "name": "ipython",
    "version": 3
   },
   "file_extension": ".py",
   "mimetype": "text/x-python",
   "name": "python",
   "nbconvert_exporter": "python",
   "pygments_lexer": "ipython3",
   "version": "3.5.3"
  }
 },
 "nbformat": 4,
 "nbformat_minor": 2
}
