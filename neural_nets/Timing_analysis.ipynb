{
 "cells": [
  {
   "cell_type": "code",
   "execution_count": 1,
   "metadata": {
    "collapsed": false
   },
   "outputs": [
    {
     "name": "stderr",
     "output_type": "stream",
     "text": [
      "c:\\users\\narendra\\.conda\\envs\\tensorflow\\lib\\site-packages\\h5py\\__init__.py:34: FutureWarning: Conversion of the second argument of issubdtype from `float` to `np.floating` is deprecated. In future, it will be treated as `np.float64 == np.dtype(float).type`.\n",
      "  from ._conv import register_converters as _register_converters\n",
      "Using TensorFlow backend.\n"
     ]
    }
   ],
   "source": [
    "import tensorflow as tf\n",
    "import numpy as np\n",
    "import math\n",
    "import timeit, time\n",
    "import matplotlib.pyplot as plt\n",
    "import keras\n",
    "from keras.models import Sequential,load_model\n",
    "from keras.layers import Dense, Dropout, Activation, Flatten, Conv2D, MaxPooling2D, BatchNormalization\n",
    "from PIL import Image\n",
    "import skimage\n",
    "\n",
    "from skimage import measure"
   ]
  },
  {
   "cell_type": "code",
   "execution_count": 2,
   "metadata": {
    "collapsed": true
   },
   "outputs": [],
   "source": [
    "#path = '/home/grads/n/narendra5/Desktop/Programs/LER_machine_learning/'\n",
    "path = r\"C:\\\\Users\\\\narendra\\\\Documents\\\\LER\\\\\"\n",
    "\n",
    "#model = load_model(path + 'models/' + 'Linenet_round_L2_epoch_4.h5')\n",
    "\n",
    "#model = load_model(path + 'LER_machine_learning\\\\models\\\\' + 'Linenet_round_L2_epoch_4.h5')\n",
    "model = load_model(path + 'LER_machine_learning\\\\models\\\\' + 'SEMNet_run2_epoch_4.h5')\n",
    "#model = load_model(path + 'LER_machine_learning\\\\models\\\\' + 'EDGEnet2_round_L1_epoch_4.h5')"
   ]
  },
  {
   "cell_type": "code",
   "execution_count": 3,
   "metadata": {
    "collapsed": true
   },
   "outputs": [],
   "source": [
    "\n",
    "sigma = 0.8\n",
    "alpha = 0.3\n",
    "Xi = 10\n",
    "width = 20\n",
    "space = 20\n",
    "noise = 10\n",
    "shift = math.floor(-25 + (width + space/2 + Xi + alpha*10 + sigma*10)%16) \n",
    "\n",
    "original_file = path + 'original_images2/oim_' + \"{:.2g}\".format(sigma*1e-09) + '_' + str(alpha) + '_' + \"{0:.2g}\".format(Xi*1e-09) + '_' + str(width) + '_' + str(space) + '_' + str(-shift) + '.tiff'\n",
    "noisy_file = path + 'noisy_images2/nim_' + \"{0:.2g}\".format(sigma*1e-09) + '_' + str(alpha) + '_' + \"{0:.2g}\".format(Xi*1e-09) + '_' + str(width) + '_' + str(space) + '_' + str(-shift) + '_' + str(noise) + '.tiff'\n",
    "linescan_file = path + 'linescans/linescan_' + \"{:.2g}\".format(sigma*1e-09) + '_' + str(alpha) + '_' + \"{0:.2g}\".format(Xi*1e-09) + '_' + str(width) + '_' + str(space) + '.txt'\n",
    "\n",
    "im = np.array(Image.open(original_file))\n",
    "im = im/256\n",
    "\n",
    "imnoisy = np.array(Image.open(noisy_file))\n",
    "imnoisy = (imnoisy)/256\n",
    "imnoisy = imnoisy.reshape(1,1024,64,1)\n"
   ]
  },
  {
   "cell_type": "code",
   "execution_count": 4,
   "metadata": {
    "collapsed": false
   },
   "outputs": [
    {
     "name": "stdout",
     "output_type": "stream",
     "text": [
      "Model time: [18.14866774863311, 17.29781789179053, 16.435635612519164]\n"
     ]
    }
   ],
   "source": [
    "SETUP_CODE = \"\"\"\n",
    "\n",
    "from __main__ import imnoisy, model\n",
    "\"\"\"\n",
    "TEST_CODE = \"\"\"\n",
    "model.predict(imnoisy)\n",
    "\"\"\"\n",
    "\n",
    "times = timeit.repeat(setup = SETUP_CODE, \n",
    "                          stmt = TEST_CODE, \n",
    "                          repeat = 3, \n",
    "                          number = 2) \n",
    "print('Model time: {}'.format(times)) "
   ]
  },
  {
   "cell_type": "code",
   "execution_count": null,
   "metadata": {
    "collapsed": true
   },
   "outputs": [],
   "source": []
  }
 ],
 "metadata": {
  "kernelspec": {
   "display_name": "Python 3",
   "language": "python",
   "name": "python3"
  },
  "language_info": {
   "codemirror_mode": {
    "name": "ipython",
    "version": 3
   },
   "file_extension": ".py",
   "mimetype": "text/x-python",
   "name": "python",
   "nbconvert_exporter": "python",
   "pygments_lexer": "ipython3",
   "version": "3.5.3"
  }
 },
 "nbformat": 4,
 "nbformat_minor": 0
}
