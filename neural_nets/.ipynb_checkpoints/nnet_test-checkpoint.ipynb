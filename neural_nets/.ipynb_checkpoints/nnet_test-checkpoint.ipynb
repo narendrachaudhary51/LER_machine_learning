{
 "cells": [
  {
   "cell_type": "code",
   "execution_count": 1,
   "metadata": {},
   "outputs": [
    {
     "name": "stderr",
     "output_type": "stream",
     "text": [
      "Using TensorFlow backend.\n"
     ]
    }
   ],
   "source": [
    "import numpy as np\n",
    "import matplotlib as plt\n",
    "from keras.models import Sequential, load_model\n",
    "from PIL import Image\n",
    "import timeit,time\n",
    "import math\n",
    "import pandas as pd\n",
    "\n",
    "from skimage import measure\n",
    "from scipy import ndimage as ndi\n",
    "from skimage import feature"
   ]
  },
  {
   "cell_type": "code",
   "execution_count": 2,
   "metadata": {},
   "outputs": [
    {
     "name": "stdout",
     "output_type": "stream",
     "text": [
      "_________________________________________________________________\n",
      "Layer (type)                 Output Shape              Param #   \n",
      "=================================================================\n",
      "conv2d_1 (Conv2D)            (None, 1024, 64, 64)      640       \n",
      "_________________________________________________________________\n",
      "batch_normalization_1 (Batch (None, 1024, 64, 64)      256       \n",
      "_________________________________________________________________\n",
      "dropout_1 (Dropout)          (None, 1024, 64, 64)      0         \n",
      "_________________________________________________________________\n",
      "conv2d_2 (Conv2D)            (None, 1024, 64, 64)      36928     \n",
      "_________________________________________________________________\n",
      "batch_normalization_2 (Batch (None, 1024, 64, 64)      256       \n",
      "_________________________________________________________________\n",
      "dropout_2 (Dropout)          (None, 1024, 64, 64)      0         \n",
      "_________________________________________________________________\n",
      "conv2d_3 (Conv2D)            (None, 1024, 64, 64)      36928     \n",
      "_________________________________________________________________\n",
      "batch_normalization_3 (Batch (None, 1024, 64, 64)      256       \n",
      "_________________________________________________________________\n",
      "dropout_3 (Dropout)          (None, 1024, 64, 64)      0         \n",
      "_________________________________________________________________\n",
      "conv2d_4 (Conv2D)            (None, 1024, 64, 64)      36928     \n",
      "_________________________________________________________________\n",
      "batch_normalization_4 (Batch (None, 1024, 64, 64)      256       \n",
      "_________________________________________________________________\n",
      "dropout_4 (Dropout)          (None, 1024, 64, 64)      0         \n",
      "_________________________________________________________________\n",
      "conv2d_5 (Conv2D)            (None, 1024, 64, 64)      36928     \n",
      "_________________________________________________________________\n",
      "batch_normalization_5 (Batch (None, 1024, 64, 64)      256       \n",
      "_________________________________________________________________\n",
      "dropout_5 (Dropout)          (None, 1024, 64, 64)      0         \n",
      "_________________________________________________________________\n",
      "conv2d_6 (Conv2D)            (None, 1024, 64, 64)      36928     \n",
      "_________________________________________________________________\n",
      "batch_normalization_6 (Batch (None, 1024, 64, 64)      256       \n",
      "_________________________________________________________________\n",
      "dropout_6 (Dropout)          (None, 1024, 64, 64)      0         \n",
      "_________________________________________________________________\n",
      "conv2d_7 (Conv2D)            (None, 1024, 64, 64)      36928     \n",
      "_________________________________________________________________\n",
      "batch_normalization_7 (Batch (None, 1024, 64, 64)      256       \n",
      "_________________________________________________________________\n",
      "dropout_7 (Dropout)          (None, 1024, 64, 64)      0         \n",
      "_________________________________________________________________\n",
      "conv2d_8 (Conv2D)            (None, 1024, 64, 64)      36928     \n",
      "_________________________________________________________________\n",
      "batch_normalization_8 (Batch (None, 1024, 64, 64)      256       \n",
      "_________________________________________________________________\n",
      "dropout_8 (Dropout)          (None, 1024, 64, 64)      0         \n",
      "_________________________________________________________________\n",
      "conv2d_9 (Conv2D)            (None, 1024, 64, 64)      36928     \n",
      "_________________________________________________________________\n",
      "batch_normalization_9 (Batch (None, 1024, 64, 64)      256       \n",
      "_________________________________________________________________\n",
      "dropout_9 (Dropout)          (None, 1024, 64, 64)      0         \n",
      "_________________________________________________________________\n",
      "conv2d_10 (Conv2D)           (None, 1024, 64, 64)      36928     \n",
      "_________________________________________________________________\n",
      "batch_normalization_10 (Batc (None, 1024, 64, 64)      256       \n",
      "_________________________________________________________________\n",
      "dropout_10 (Dropout)         (None, 1024, 64, 64)      0         \n",
      "_________________________________________________________________\n",
      "conv2d_11 (Conv2D)           (None, 1024, 64, 64)      36928     \n",
      "_________________________________________________________________\n",
      "batch_normalization_11 (Batc (None, 1024, 64, 64)      256       \n",
      "_________________________________________________________________\n",
      "dropout_11 (Dropout)         (None, 1024, 64, 64)      0         \n",
      "_________________________________________________________________\n",
      "conv2d_12 (Conv2D)           (None, 1024, 64, 64)      36928     \n",
      "_________________________________________________________________\n",
      "batch_normalization_12 (Batc (None, 1024, 64, 64)      256       \n",
      "_________________________________________________________________\n",
      "dropout_12 (Dropout)         (None, 1024, 64, 64)      0         \n",
      "_________________________________________________________________\n",
      "conv2d_13 (Conv2D)           (None, 1024, 64, 64)      36928     \n",
      "_________________________________________________________________\n",
      "batch_normalization_13 (Batc (None, 1024, 64, 64)      256       \n",
      "_________________________________________________________________\n",
      "dropout_13 (Dropout)         (None, 1024, 64, 64)      0         \n",
      "_________________________________________________________________\n",
      "conv2d_14 (Conv2D)           (None, 1024, 64, 64)      36928     \n",
      "_________________________________________________________________\n",
      "batch_normalization_14 (Batc (None, 1024, 64, 64)      256       \n",
      "_________________________________________________________________\n",
      "dropout_14 (Dropout)         (None, 1024, 64, 64)      0         \n",
      "_________________________________________________________________\n",
      "conv2d_15 (Conv2D)           (None, 1024, 64, 64)      36928     \n",
      "_________________________________________________________________\n",
      "batch_normalization_15 (Batc (None, 1024, 64, 64)      256       \n",
      "_________________________________________________________________\n",
      "dropout_15 (Dropout)         (None, 1024, 64, 64)      0         \n",
      "_________________________________________________________________\n",
      "conv2d_16 (Conv2D)           (None, 1024, 64, 64)      36928     \n",
      "_________________________________________________________________\n",
      "batch_normalization_16 (Batc (None, 1024, 64, 64)      256       \n",
      "_________________________________________________________________\n",
      "dropout_16 (Dropout)         (None, 1024, 64, 64)      0         \n",
      "_________________________________________________________________\n",
      "conv2d_17 (Conv2D)           (None, 1024, 64, 1)       577       \n",
      "=================================================================\n",
      "Total params: 559,233\n",
      "Trainable params: 557,185\n",
      "Non-trainable params: 2,048\n",
      "_________________________________________________________________\n"
     ]
    }
   ],
   "source": [
    "# load the model\n",
    "path = '/home/grads/n/narendra5/Desktop/Programs/LER_machine_learning/'\n",
    "#path = r\"C:\\\\Users\\\\narendra\\\\Documents\\\\LER\\\\LER_machine_learning\\\\\"\n",
    "\n",
    "#model = load_model(path + r'models\\\\' + 'full_run1_epoch_4.h5')\n",
    "model = load_model(path + 'models/' + 'full_run1_epoch_4.h5')\n",
    "model.summary()"
   ]
  },
  {
   "cell_type": "code",
   "execution_count": 20,
   "metadata": {},
   "outputs": [
    {
     "name": "stdout",
     "output_type": "stream",
     "text": [
      "Testsize:  8640\n",
      "Test count:  8640\n"
     ]
    }
   ],
   "source": [
    "\"\"\"\n",
    "Entire Test set \n",
    "\n",
    "sigmas = [0.4, 0.6, 0.8, 1.0, 1.2, 1.4, 1.6, 1.8]\n",
    "Xis = [10, 30, 40]\n",
    "alphas = [0.1, 0.2, 0.3, 0.4, 0.5, 0.6, 0.7, 0.8, 0.9]\n",
    "widths = [20, 30]\n",
    "noises = [2, 3, 4, 5, 10, 20, 30, 50, 100, 200]\n",
    "\"\"\"\n",
    "\n",
    "sigmas = [0.4, 0.6, 0.8, 1.0, 1.2, 1.4, 1.6, 1.8]\n",
    "Xis = [10, 30, 40]\n",
    "alphas = [0.1, 0.2, 0.3, 0.4, 0.5, 0.6, 0.7, 0.8, 0.9]\n",
    "widths = [20, 30]\n",
    "noises = [2, 3, 4, 5, 10, 20, 30, 50, 100, 200]\n",
    "\n",
    "testsize = len(sigmas)*len(Xis)*len(alphas)*len(widths)*len(noises)*2\n",
    "print('Testsize: ', testsize)\n",
    "\n",
    "\n",
    "df = pd.DataFrame(columns = ['noise', 'sigma', 'alpha', 'Xi', 'width', 'space', 'MSE_noise','MSE_pred', \\\n",
    "                             'PSNR_noise','PSNR_pred', 'Pred_time', 'O_leftline_sigma', 'i_leftline_sigma', \\\n",
    "                             'O_rightline_sigma', 'i_rightline_sigma', 'ledge_orig_sigma', 'ledge_pred_sigma', \\\n",
    "                             'redge_orig_sigma', 'redge_pred_sigma', 'lorig_rmse', 'lpred_rmse', 'rorig_rmse', \\\n",
    "                             'rpred_rmse', 'ldiff_rmse','rdiff_rmse'])\n",
    "\n",
    "count = 0\n",
    "for sigma in sigmas:\n",
    "    for alpha in alphas:\n",
    "        for Xi in Xis:\n",
    "            for width in widths:\n",
    "                for s in range(2):\n",
    "                    for noise in noises:\n",
    "                        space = math.floor(width*2**s)\n",
    "                        shift = math.floor(-25 + (width + space/2 + Xi + alpha*10 + sigma*10)%16) \n",
    "                        \n",
    "                        original_file = path + 'original_images/oim_' + \"{:.2g}\".format(sigma*1e-09) + '_' + str(alpha) + '_' + \"{0:.2g}\".format(Xi*1e-09) + '_' + str(width) + '_' + str(space) + '_' + str(-shift) + '.tiff'\n",
    "                        noisy_file = path + 'noisy_images/nim_' + \"{0:.2g}\".format(sigma*1e-09) + '_' + str(alpha) + '_' + \"{0:.2g}\".format(Xi*1e-09) + '_' + str(width) + '_' + str(space) + '_' + str(-shift) + '_' + str(noise) + '.tiff'\n",
    "                        linescan_file = path + 'linescans/linescan_' + \"{:.2g}\".format(sigma*1e-09) + '_' + str(alpha) + '_' + \"{0:.2g}\".format(Xi*1e-09) + '_' + str(width) + '_' + str(space) + '.txt'\n",
    "                        linescan = []\n",
    "                        with open(linescan_file,'r') as f:\n",
    "                            for line in f:\n",
    "                                a, b = line.split(',')\n",
    "                                linescan.append(float(b))\n",
    "                        \n",
    "                        linescan = linescan[:2048]\n",
    "                        \n",
    "                        leftline = np.array(linescan[:1024]) \n",
    "                        rightline = linescan[1024:]\n",
    "                        rightline.reverse()\n",
    "                        rightline = np.array(rightline)\n",
    "\n",
    "                        leftline = leftline + shift           # add shift to linescan\n",
    "                        rightline = rightline + shift         # add shift to linescan\n",
    "                        \n",
    "                        \n",
    "                        im = np.array(Image.open(original_file))\n",
    "                        imnoisy = np.array(Image.open(noisy_file))\n",
    "                        \n",
    "                        im = im/256\n",
    "                        imnoisy = imnoisy/256\n",
    "                        imnoisy = imnoisy.reshape(1,1024,64,1)\n",
    "                        im = im.reshape(1,1024,64,1)\n",
    "                        \n",
    "                        #test_score = model.evaluate(imnoisy, im)\n",
    "                        start = time.time()\n",
    "                        impredict = model.predict(imnoisy)\n",
    "                        prediction_time = time.time() - start\n",
    "                        \n",
    "                        \n",
    "                        impredict = impredict.reshape(1024,64)\n",
    "                        imnoisy = imnoisy.reshape(1024,64)\n",
    "                        im = im.reshape(1024,64)\n",
    "                        impredict = impredict.astype(float)\n",
    "                        imnoisy = imnoisy.astype(float)\n",
    "                        im = im.astype(float)\n",
    "                        \n",
    "                        mse_predict = (256**2)*((im - impredict) ** 2).mean()\n",
    "                        mse_noisy = (256**2)*((im - imnoisy) ** 2).mean()\n",
    "                        \n",
    "                        psnr_noisy = measure.compare_psnr(im,imnoisy)\n",
    "                        psnr_predict = measure.compare_psnr(im,impredict)\n",
    "                        \n",
    "                        canny_sigma = 1\n",
    "                        edges_im = feature.canny(im, sigma = canny_sigma)\n",
    "                        edges_imnoisy = feature.canny(imnoisy, sigma = canny_sigma)\n",
    "                        edges_impredict = feature.canny(impredict, sigma = canny_sigma)\n",
    "                        \n",
    "                        ledge_orig = np.argmax(edges_im, axis = 1)[256:768]\n",
    "                        redge_orig = np.argmax(np.fliplr(edges_im), axis = 1)[256:768]\n",
    "                        redge_orig = 62 - redge_orig\n",
    "                        \n",
    "                        ledge_pred = np.argmax(edges_impredict, axis = 1)[256:768]\n",
    "                        redge_pred = np.argmax(np.fliplr(edges_impredict), axis = 1)[256:768]\n",
    "                        redge_pred = 62 - redge_pred\n",
    "                        \n",
    "                        lorig_rmse = np.sqrt(((leftline[255:767].astype(int) - ledge_orig)**2).mean())\n",
    "                        rorig_rmse = np.sqrt(((rightline[255:767].astype(int) - redge_orig)**2).mean())\n",
    "                        \n",
    "                        lpred_rmse = np.sqrt(((leftline[255:767].astype(int) - ledge_pred)**2).mean())\n",
    "                        rpred_rmse = np.sqrt(((rightline[255:767].astype(int) - redge_pred)**2).mean())\n",
    "                        \n",
    "                        ldiff_rmse = np.sqrt(((ledge_orig - ledge_pred)**2).mean())\n",
    "                        rdiff_rmse = np.sqrt(((redge_orig - redge_pred)**2).mean())\n",
    "                        \n",
    "                        df.loc[count] = [noise, sigma, alpha, Xi, width, space, mse_noisy, mse_predict, \\\n",
    "                                         psnr_noisy, psnr_predict, prediction_time, leftline[255:767].std()/2, \\\n",
    "                                         leftline[255:767].astype(int).std()/2, rightline[255:767].std()/2, \\\n",
    "                                         rightline[255:767].astype(int).std()/2, ledge_orig.std()/2, \\\n",
    "                                         ledge_pred.std()/2, redge_orig.std()/2, redge_pred.std()/2, lorig_rmse, \\\n",
    "                                         lpred_rmse, rorig_rmse, rpred_rmse, ldiff_rmse, rdiff_rmse]\n",
    "                        \n",
    "                        count += 1\n",
    "                        \n",
    "print(\"Test count: \", count)\n",
    "#print(df)"
   ]
  },
  {
   "cell_type": "code",
   "execution_count": 3,
   "metadata": {},
   "outputs": [
    {
     "ename": "NameError",
     "evalue": "name 'df' is not defined",
     "output_type": "error",
     "traceback": [
      "\u001b[0;31m---------------------------------------------------------------------------\u001b[0m",
      "\u001b[0;31mNameError\u001b[0m                                 Traceback (most recent call last)",
      "\u001b[0;32m<ipython-input-3-e9461a965f78>\u001b[0m in \u001b[0;36m<module>\u001b[0;34m()\u001b[0m\n\u001b[0;32m----> 1\u001b[0;31m \u001b[0mdf\u001b[0m\u001b[0;34m.\u001b[0m\u001b[0mto_csv\u001b[0m\u001b[0;34m(\u001b[0m\u001b[0mpath\u001b[0m \u001b[0;34m+\u001b[0m \u001b[0;34m'Test_results.csv'\u001b[0m\u001b[0;34m)\u001b[0m\u001b[0;34m\u001b[0m\u001b[0m\n\u001b[0m",
      "\u001b[0;31mNameError\u001b[0m: name 'df' is not defined"
     ]
    }
   ],
   "source": [
    "df.to_csv(path + 'Test_results.csv')"
   ]
  },
  {
   "cell_type": "code",
   "execution_count": 2,
   "metadata": {},
   "outputs": [
    {
     "name": "stderr",
     "output_type": "stream",
     "text": [
      "/usr/local/lib/python3.5/dist-packages/ipykernel_launcher.py:2: FutureWarning: from_csv is deprecated. Please use read_csv(...) instead. Note that some of the default arguments are different, so please refer to the documentation for from_csv when changing your function calls\n",
      "  \n"
     ]
    }
   ],
   "source": [
    "path = '/home/grads/n/narendra5/Desktop/Programs/LER_machine_learning/'\n",
    "df = pd.DataFrame.from_csv(path + 'Test_results.csv')"
   ]
  },
  {
   "cell_type": "code",
   "execution_count": 35,
   "metadata": {},
   "outputs": [
    {
     "name": "stdout",
     "output_type": "stream",
     "text": [
      "      noise  sigma  alpha    Xi  width  space    MSE_noise   MSE_pred  \\\n",
      "2404   10.0    0.8    0.3  10.0   20.0   20.0  1563.428375  89.903817   \n",
      "2444   10.0    0.8    0.3  30.0   20.0   20.0  1526.973190  68.958134   \n",
      "2484   10.0    0.8    0.3  40.0   20.0   20.0  1535.277618  72.462501   \n",
      "\n",
      "      PSNR_noise  PSNR_pred     ...      ledge_orig_sigma  ledge_pred_sigma  \\\n",
      "2404   16.224019  28.627018     ...              0.629740          0.602005   \n",
      "2444   16.326485  29.778944     ...              0.731606          0.720822   \n",
      "2484   16.302930  29.563666     ...              0.682510          0.681434   \n",
      "\n",
      "      redge_orig_sigma  redge_pred_sigma  lorig_rmse  lpred_rmse  rorig_rmse  \\\n",
      "2404          0.638594          0.660225    0.712610    0.806468    0.771818   \n",
      "2444          0.804511          0.801457    0.513490    0.591278    0.597848   \n",
      "2484          0.766570          0.771442    0.528485    0.601106    0.589624   \n",
      "\n",
      "      rpred_rmse  ldiff_rmse  rdiff_rmse  \n",
      "2404    0.870524    0.490137    0.465615  \n",
      "2444    0.612372    0.400195    0.377595  \n",
      "2484    0.615554    0.409840    0.369755  \n",
      "\n",
      "[3 rows x 25 columns]\n"
     ]
    }
   ],
   "source": [
    "print(df.loc[(df['noise'] == 10) & (df['sigma'] == 0.8) & (df['alpha'] == 0.3) & (df['Xi'] == 10) & (df['width'] == 20) & (df['space'] == 20)])\n",
    "#print(df.loc[(df['noise'] == 2) & (df['sigma'] == 1.2) & (df['alpha'] == 0.7) & (df['Xi'] == 40) & (df['width'] == 30) & (df['space'] == 30)])\n",
    "#print(df.loc[(df['noise'] == 100) & (df['sigma'] == 1.6) & (df['alpha'] == 0.5) & (df['Xi'] == 30) & (df['width'] == 20) & (df['space'] == 40)])"
   ]
  },
  {
   "cell_type": "code",
   "execution_count": 43,
   "metadata": {},
   "outputs": [
    {
     "data": {
      "text/plain": [
       "<matplotlib.axes._subplots.AxesSubplot at 0x7f32476bc7f0>"
      ]
     },
     "execution_count": 43,
     "metadata": {},
     "output_type": "execute_result"
    },
    {
     "data": {
      "image/png": "[encoded data removed]",
      "text/plain": [
       "<matplotlib.figure.Figure at 0x7f32476cfba8>"
      ]
     },
     "metadata": {},
     "output_type": "display_data"
    },
    {
     "data": {
      "image/png": "[encoded data removed]",
      "text/plain": [
       "<matplotlib.figure.Figure at 0x7f3247626be0>"
      ]
     },
     "metadata": {},
     "output_type": "display_data"
    }
   ],
   "source": [
    "%matplotlib inline\n",
    "df1 = df.loc[(df['sigma'] == 0.8) & (df['alpha'] == 0.3) & (df['Xi'] == 10) & (df['width'] == 20) & (df['space'] == 20)]\n",
    "#df1 = df.loc[(df['sigma'] == 1.2) & (df['alpha'] == 0.7) & (df['Xi'] == 40) & (df['width'] == 30) & (df['space'] == 30)]\n",
    "#df1 = df.loc[(df['sigma'] == 1.6) & (df['alpha'] == 0.5) & (df['Xi'] == 30) & (df['width'] == 20) & (df['space'] == 40)]\n",
    "\n",
    "ax = df1.plot(x = 'noise', y = 'ledge_pred_sigma', style = '-o', logx = True)\n",
    "df1.plot(x = 'noise', y = 'ledge_orig_sigma', style = '-*', ax = ax, logx = True)\n",
    "\n",
    "ax = df1.plot(x = 'noise', y = 'redge_pred_sigma', style = '-o', logx = True)\n",
    "df1.plot(x = 'noise', y = 'redge_orig_sigma', style = '-*', ax = ax, logx = True)"
   ]
  },
  {
   "cell_type": "code",
   "execution_count": null,
   "metadata": {},
   "outputs": [],
   "source": []
  }
 ],
 "metadata": {
  "kernelspec": {
   "display_name": "Python 3",
   "language": "python",
   "name": "python3"
  },
  "language_info": {
   "codemirror_mode": {
    "name": "ipython",
    "version": 3
   },
   "file_extension": ".py",
   "mimetype": "text/x-python",
   "name": "python",
   "nbconvert_exporter": "python",
   "pygments_lexer": "ipython3",
   "version": "3.5.2"
  }
 },
 "nbformat": 4,
 "nbformat_minor": 1
}
