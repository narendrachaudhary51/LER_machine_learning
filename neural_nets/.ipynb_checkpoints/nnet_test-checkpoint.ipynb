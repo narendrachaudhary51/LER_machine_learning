{
 "cells": [
  {
   "cell_type": "code",
   "execution_count": 1,
   "metadata": {},
   "outputs": [
    {
     "name": "stderr",
     "output_type": "stream",
     "text": [
      "Using TensorFlow backend.\n"
     ]
    }
   ],
   "source": [
    "import numpy as np\n",
    "import matplotlib.pyplot as plt\n",
    "from keras.models import Sequential, load_model\n",
    "from PIL import Image\n",
    "import timeit,time\n",
    "import math\n",
    "import pandas as pd\n",
    "\n",
    "from skimage import measure\n",
    "from scipy import ndimage as ndi\n",
    "from skimage import feature"
   ]
  },
  {
   "cell_type": "code",
   "execution_count": 21,
   "metadata": {},
   "outputs": [
    {
     "name": "stdout",
     "output_type": "stream",
     "text": [
      "_________________________________________________________________\n",
      "Layer (type)                 Output Shape              Param #   \n",
      "=================================================================\n",
      "conv2d_1 (Conv2D)            (None, 1024, 64, 64)      640       \n",
      "_________________________________________________________________\n",
      "batch_normalization_1 (Batch (None, 1024, 64, 64)      256       \n",
      "_________________________________________________________________\n",
      "dropout_1 (Dropout)          (None, 1024, 64, 64)      0         \n",
      "_________________________________________________________________\n",
      "conv2d_2 (Conv2D)            (None, 1024, 64, 64)      36928     \n",
      "_________________________________________________________________\n",
      "batch_normalization_2 (Batch (None, 1024, 64, 64)      256       \n",
      "_________________________________________________________________\n",
      "dropout_2 (Dropout)          (None, 1024, 64, 64)      0         \n",
      "_________________________________________________________________\n",
      "conv2d_3 (Conv2D)            (None, 1024, 64, 64)      36928     \n",
      "_________________________________________________________________\n",
      "batch_normalization_3 (Batch (None, 1024, 64, 64)      256       \n",
      "_________________________________________________________________\n",
      "dropout_3 (Dropout)          (None, 1024, 64, 64)      0         \n",
      "_________________________________________________________________\n",
      "conv2d_4 (Conv2D)            (None, 1024, 64, 64)      36928     \n",
      "_________________________________________________________________\n",
      "batch_normalization_4 (Batch (None, 1024, 64, 64)      256       \n",
      "_________________________________________________________________\n",
      "dropout_4 (Dropout)          (None, 1024, 64, 64)      0         \n",
      "_________________________________________________________________\n",
      "conv2d_5 (Conv2D)            (None, 1024, 64, 64)      36928     \n",
      "_________________________________________________________________\n",
      "batch_normalization_5 (Batch (None, 1024, 64, 64)      256       \n",
      "_________________________________________________________________\n",
      "dropout_5 (Dropout)          (None, 1024, 64, 64)      0         \n",
      "_________________________________________________________________\n",
      "conv2d_6 (Conv2D)            (None, 1024, 64, 64)      36928     \n",
      "_________________________________________________________________\n",
      "batch_normalization_6 (Batch (None, 1024, 64, 64)      256       \n",
      "_________________________________________________________________\n",
      "dropout_6 (Dropout)          (None, 1024, 64, 64)      0         \n",
      "_________________________________________________________________\n",
      "conv2d_7 (Conv2D)            (None, 1024, 64, 64)      36928     \n",
      "_________________________________________________________________\n",
      "batch_normalization_7 (Batch (None, 1024, 64, 64)      256       \n",
      "_________________________________________________________________\n",
      "dropout_7 (Dropout)          (None, 1024, 64, 64)      0         \n",
      "_________________________________________________________________\n",
      "conv2d_8 (Conv2D)            (None, 1024, 64, 64)      36928     \n",
      "_________________________________________________________________\n",
      "batch_normalization_8 (Batch (None, 1024, 64, 64)      256       \n",
      "_________________________________________________________________\n",
      "dropout_8 (Dropout)          (None, 1024, 64, 64)      0         \n",
      "_________________________________________________________________\n",
      "conv2d_9 (Conv2D)            (None, 1024, 64, 64)      36928     \n",
      "_________________________________________________________________\n",
      "batch_normalization_9 (Batch (None, 1024, 64, 64)      256       \n",
      "_________________________________________________________________\n",
      "dropout_9 (Dropout)          (None, 1024, 64, 64)      0         \n",
      "_________________________________________________________________\n",
      "conv2d_10 (Conv2D)           (None, 1024, 64, 64)      36928     \n",
      "_________________________________________________________________\n",
      "batch_normalization_10 (Batc (None, 1024, 64, 64)      256       \n",
      "_________________________________________________________________\n",
      "dropout_10 (Dropout)         (None, 1024, 64, 64)      0         \n",
      "_________________________________________________________________\n",
      "conv2d_11 (Conv2D)           (None, 1024, 64, 64)      36928     \n",
      "_________________________________________________________________\n",
      "batch_normalization_11 (Batc (None, 1024, 64, 64)      256       \n",
      "_________________________________________________________________\n",
      "dropout_11 (Dropout)         (None, 1024, 64, 64)      0         \n",
      "_________________________________________________________________\n",
      "conv2d_12 (Conv2D)           (None, 1024, 64, 64)      36928     \n",
      "_________________________________________________________________\n",
      "batch_normalization_12 (Batc (None, 1024, 64, 64)      256       \n",
      "_________________________________________________________________\n",
      "dropout_12 (Dropout)         (None, 1024, 64, 64)      0         \n",
      "_________________________________________________________________\n",
      "conv2d_13 (Conv2D)           (None, 1024, 64, 64)      36928     \n",
      "_________________________________________________________________\n",
      "batch_normalization_13 (Batc (None, 1024, 64, 64)      256       \n",
      "_________________________________________________________________\n",
      "dropout_13 (Dropout)         (None, 1024, 64, 64)      0         \n",
      "_________________________________________________________________\n",
      "conv2d_14 (Conv2D)           (None, 1024, 64, 64)      36928     \n",
      "_________________________________________________________________\n",
      "batch_normalization_14 (Batc (None, 1024, 64, 64)      256       \n",
      "_________________________________________________________________\n",
      "dropout_14 (Dropout)         (None, 1024, 64, 64)      0         \n",
      "_________________________________________________________________\n",
      "conv2d_15 (Conv2D)           (None, 1024, 64, 64)      36928     \n",
      "_________________________________________________________________\n",
      "batch_normalization_15 (Batc (None, 1024, 64, 64)      256       \n",
      "_________________________________________________________________\n",
      "dropout_15 (Dropout)         (None, 1024, 64, 64)      0         \n",
      "_________________________________________________________________\n",
      "conv2d_16 (Conv2D)           (None, 1024, 64, 64)      36928     \n",
      "_________________________________________________________________\n",
      "batch_normalization_16 (Batc (None, 1024, 64, 64)      256       \n",
      "_________________________________________________________________\n",
      "dropout_16 (Dropout)         (None, 1024, 64, 64)      0         \n",
      "_________________________________________________________________\n",
      "conv2d_17 (Conv2D)           (None, 1024, 64, 1)       577       \n",
      "=================================================================\n",
      "Total params: 559,233\n",
      "Trainable params: 557,185\n",
      "Non-trainable params: 2,048\n",
      "_________________________________________________________________\n"
     ]
    }
   ],
   "source": [
    "# load the model\n",
    "path = '/home/grads/n/narendra5/Desktop/Programs/LER_machine_learning/'\n",
    "#path = r\"C:\\\\Users\\\\narendra\\\\Documents\\\\LER\\\\LER_machine_learning\\\\\"\n",
    "#model = load_model(path + r'models\\\\' + 'full_run1_epoch_4.h5')\n",
    "\n",
    "#model = load_model(path + 'models/' + 'full_run1_epoch_4.h5')\n",
    "model = load_model(path + 'models/' + 'SEMNet_run2_epoch_4.h5')\n",
    "model.summary()"
   ]
  },
  {
   "cell_type": "code",
   "execution_count": 80,
   "metadata": {},
   "outputs": [
    {
     "name": "stdout",
     "output_type": "stream",
     "text": [
      "Testsize:  43200\n",
      "Test count:  43200\n"
     ]
    }
   ],
   "source": [
    "\"\"\"\n",
    "Entire Test set \n",
    "\n",
    "sigmas = [0.4, 0.6, 0.8, 1.0, 1.2, 1.4, 1.6, 1.8]\n",
    "Xis = [10, 30, 40]\n",
    "alphas = [0.1, 0.2, 0.3, 0.4, 0.5, 0.6, 0.7, 0.8, 0.9]\n",
    "widths = [20, 30]\n",
    "noises = [2, 3, 4, 5, 10, 20, 30, 50, 100, 200]\n",
    "\"\"\"\n",
    "\n",
    "sigmas = [0.4, 0.6, 0.8, 1.0, 1.2, 1.4, 1.6, 1.8]\n",
    "Xis = [10, 30, 40]\n",
    "alphas = [0.1, 0.2, 0.3, 0.4, 0.5, 0.6, 0.7, 0.8, 0.9]\n",
    "widths = [20, 30]\n",
    "noises = [2, 3, 4, 5, 10, 20, 30, 50, 100, 200]\n",
    "\n",
    "testsize = len(sigmas)*len(Xis)*len(alphas)*len(widths)*len(noises)*2*5\n",
    "print('Testsize: ', testsize)\n",
    "\n",
    "\n",
    "df = pd.DataFrame(columns = ['noise', 'sigma', 'alpha', 'Xi', 'width', 'space', 'canny_sigma', \\\n",
    "                             'MSE_noise','MSE_pred', 'PSNR_noise','PSNR_pred', 'Pred_time', \\\n",
    "                             'leftline_sigma', 'rightline_sigma', 'ledge_orig_sigma', 'ledge_pred_sigma', \\\n",
    "                             'redge_orig_sigma', 'redge_pred_sigma', 'lorig_mabse', 'lpred_mabse', 'rorig_mabse', \\\n",
    "                             'rpred_mabse', 'ldiff_mabse','rdiff_mabse', 'line_LWR', 'orig_LWR', 'pred_LWR'])\n",
    "\n",
    "count = 0\n",
    "for sigma in sigmas:\n",
    "    for alpha in alphas:\n",
    "        for Xi in Xis:\n",
    "            for width in widths:\n",
    "                for s in range(2):\n",
    "                    for noise in noises:\n",
    "                        space = math.floor(width*2**s)\n",
    "                        shift = math.floor(-25 + (width + space/2 + Xi + alpha*10 + sigma*10)%16) \n",
    "                        \n",
    "                        original_file = path + 'original_images2/oim_' + \"{:.2g}\".format(sigma*1e-09) + '_' + str(alpha) + '_' + \"{0:.2g}\".format(Xi*1e-09) + '_' + str(width) + '_' + str(space) + '_' + str(-shift) + '.tiff'\n",
    "                        noisy_file = path + 'noisy_images2/nim_' + \"{0:.2g}\".format(sigma*1e-09) + '_' + str(alpha) + '_' + \"{0:.2g}\".format(Xi*1e-09) + '_' + str(width) + '_' + str(space) + '_' + str(-shift) + '_' + str(noise) + '.tiff'\n",
    "                        linescan_file = path + 'linescans/linescan_' + \"{:.2g}\".format(sigma*1e-09) + '_' + str(alpha) + '_' + \"{0:.2g}\".format(Xi*1e-09) + '_' + str(width) + '_' + str(space) + '.txt'\n",
    "                        linescan = []\n",
    "                        with open(linescan_file,'r') as f:\n",
    "                            for line in f:\n",
    "                                a, b = line.split(',')\n",
    "                                linescan.append(float(b))\n",
    "                        \n",
    "                        linescan = linescan[:2048]\n",
    "                        \n",
    "                        leftline = np.array(linescan[:1024]) \n",
    "                        rightline = linescan[1024:]\n",
    "                        rightline.reverse()\n",
    "                        rightline = np.array(rightline)\n",
    "\n",
    "                        leftline = leftline + shift           # add shift to linescan\n",
    "                        rightline = rightline + shift         # add shift to linescan\n",
    "                        \n",
    "                        leftline = leftline.round()[1:1023]    # Round and \n",
    "                        rightline = rightline.round()[1:1023]\n",
    "                        \n",
    "                        im = np.array(Image.open(original_file))\n",
    "                        imnoisy = np.array(Image.open(noisy_file))\n",
    "                        \n",
    "                        im = im/256\n",
    "                        imnoisy = imnoisy/256\n",
    "                        imnoisy = imnoisy.reshape(1,1024,64,1)\n",
    "                        im = im.reshape(1,1024,64,1)\n",
    "                        \n",
    "                        start = time.time()\n",
    "                        impredict = model.predict(imnoisy)\n",
    "                        prediction_time = time.time() - start\n",
    "                        \n",
    "                        \n",
    "                        impredict = impredict.reshape(1024,64)\n",
    "                        imnoisy = imnoisy.reshape(1024,64)\n",
    "                        im = im.reshape(1024,64)\n",
    "                        impredict = impredict.astype(float)\n",
    "                        imnoisy = imnoisy.astype(float)\n",
    "                        im = im.astype(float)\n",
    "                        \n",
    "                        mse_predict = (256**2)*((im - impredict) ** 2).mean()\n",
    "                        mse_noisy = (256**2)*((im - imnoisy) ** 2).mean()\n",
    "                        \n",
    "                        psnr_noisy = measure.compare_psnr(im,imnoisy)\n",
    "                        psnr_predict = measure.compare_psnr(im,impredict)\n",
    "                        \n",
    "                        canny_sigmas = [0, 0.5, 1, 2, 3]\n",
    "                        for canny_sigma in canny_sigmas:\n",
    "                            edges_im = feature.canny(im, sigma = canny_sigma)\n",
    "                            edges_imnoisy = feature.canny(imnoisy, sigma = canny_sigma)\n",
    "                            edges_impredict = feature.canny(impredict, sigma = canny_sigma)\n",
    "                        \n",
    "                            ledge_orig = 1 + np.argmax(edges_im, axis = 1)[1:1023]\n",
    "                            redge_orig = np.argmax(np.fliplr(edges_im), axis = 1)[1:1023]\n",
    "                            redge_orig = 63 - redge_orig\n",
    "                        \n",
    "                            ledge_pred = 1 + np.argmax(edges_impredict, axis = 1)[1:1023]\n",
    "                            redge_pred = np.argmax(np.fliplr(edges_impredict), axis = 1)[1:1023]\n",
    "                            redge_pred = 63 - redge_pred\n",
    "                        \n",
    "                            lorig_mabse = np.abs((leftline - ledge_orig)).sum()\n",
    "                            rorig_mabse = np.abs((rightline - redge_orig)).sum()\n",
    "                        \n",
    "                            lpred_mabse = np.abs((leftline - ledge_pred)).sum()\n",
    "                            rpred_mabse = np.abs((rightline - redge_pred)).sum()\n",
    "                        \n",
    "                            ldiff_mabse = np.abs((ledge_orig - ledge_pred)).sum()\n",
    "                            rdiff_mabse = np.abs((redge_orig - redge_pred)).sum()\n",
    "                            \n",
    "                            line_LWR = np.abs((rightline - leftline)).std()/2\n",
    "                            orig_LWR = np.abs((redge_orig - ledge_orig)).std()/2\n",
    "                            pred_LWR = np.abs((redge_pred - ledge_pred)).std()/2\n",
    "                            \n",
    "                            df.loc[count] = [noise, sigma, alpha, Xi, width, space, canny_sigma, \\\n",
    "                                             mse_noisy, mse_predict, psnr_noisy, psnr_predict, prediction_time, \\\n",
    "                                             leftline.std()/2, rightline.std()/2, \\\n",
    "                                             ledge_orig.std()/2, ledge_pred.std()/2, redge_orig.std()/2, \\\n",
    "                                             redge_pred.std()/2, lorig_mabse, lpred_mabse, rorig_mabse, \\\n",
    "                                             rpred_mabse, ldiff_mabse, rdiff_mabse, line_LWR, orig_LWR, pred_LWR]\n",
    "                        \n",
    "                            count += 1\n",
    "                        \n",
    "print(\"Test count: \", count)\n",
    "#print(df)"
   ]
  },
  {
   "cell_type": "code",
   "execution_count": 2,
   "metadata": {},
   "outputs": [
    {
     "ename": "NameError",
     "evalue": "name 'df' is not defined",
     "output_type": "error",
     "traceback": [
      "\u001b[0;31m---------------------------------------------------------------------------\u001b[0m",
      "\u001b[0;31mNameError\u001b[0m                                 Traceback (most recent call last)",
      "\u001b[0;32m<ipython-input-2-e9461a965f78>\u001b[0m in \u001b[0;36m<module>\u001b[0;34m()\u001b[0m\n\u001b[0;32m----> 1\u001b[0;31m \u001b[0mdf\u001b[0m\u001b[0;34m.\u001b[0m\u001b[0mto_csv\u001b[0m\u001b[0;34m(\u001b[0m\u001b[0mpath\u001b[0m \u001b[0;34m+\u001b[0m \u001b[0;34m'Test_results.csv'\u001b[0m\u001b[0;34m)\u001b[0m\u001b[0;34m\u001b[0m\u001b[0m\n\u001b[0m",
      "\u001b[0;31mNameError\u001b[0m: name 'df' is not defined"
     ]
    }
   ],
   "source": [
    "df.to_csv(path + 'Test_results.csv')"
   ]
  },
  {
   "cell_type": "code",
   "execution_count": 3,
   "metadata": {},
   "outputs": [
    {
     "name": "stderr",
     "output_type": "stream",
     "text": [
      "/usr/local/lib/python3.5/dist-packages/ipykernel_launcher.py:2: FutureWarning: from_csv is deprecated. Please use read_csv(...) instead. Note that some of the default arguments are different, so please refer to the documentation for from_csv when changing your function calls\n",
      "  \n"
     ]
    }
   ],
   "source": [
    "path = '/home/grads/n/narendra5/Desktop/Programs/LER_machine_learning/'\n",
    "df = pd.DataFrame.from_csv(path + 'Test_results.csv')"
   ]
  },
  {
   "cell_type": "code",
   "execution_count": 3,
   "metadata": {},
   "outputs": [
    {
     "name": "stdout",
     "output_type": "stream",
     "text": [
      "       noise  sigma  alpha    Xi  width  space  canny_sigma    MSE_noise  \\\n",
      "12020   10.0    0.8    0.3  10.0   20.0   20.0          0.0  1507.162048   \n",
      "12021   10.0    0.8    0.3  10.0   20.0   20.0          0.5  1507.162048   \n",
      "12022   10.0    0.8    0.3  10.0   20.0   20.0          1.0  1507.162048   \n",
      "12023   10.0    0.8    0.3  10.0   20.0   20.0          2.0  1507.162048   \n",
      "12024   10.0    0.8    0.3  10.0   20.0   20.0          3.0  1507.162048   \n",
      "\n",
      "       MSE_pred  PSNR_noise    ...     redge_pred_sigma  lorig_mabse  \\\n",
      "12020  89.21485     16.3832    ...             0.692732        381.0   \n",
      "12021  89.21485     16.3832    ...             0.686634        392.0   \n",
      "12022  89.21485     16.3832    ...             0.662986        424.0   \n",
      "12023  89.21485     16.3832    ...             0.594220        648.0   \n",
      "12024  89.21485     16.3832    ...             0.546505       1005.0   \n",
      "\n",
      "       lpred_mabse  rorig_mabse  rpred_mabse  ldiff_mabse  rdiff_mabse  \\\n",
      "12020        438.0        578.0        555.0        213.0        311.0   \n",
      "12021        440.0        512.0        551.0        198.0        243.0   \n",
      "12022        474.0        473.0        529.0        196.0        194.0   \n",
      "12023        650.0        554.0        602.0        154.0        156.0   \n",
      "12024        976.0        800.0        826.0        103.0        112.0   \n",
      "\n",
      "       line_LWR  orig_LWR  pred_LWR  \n",
      "12020  1.057484  1.108398  0.992076  \n",
      "12021  1.057484  0.988078  0.989726  \n",
      "12022  1.057484  0.936847  0.949661  \n",
      "12023  1.057484  0.848602  0.856192  \n",
      "12024  1.057484  0.776778  0.780349  \n",
      "\n",
      "[5 rows x 27 columns]\n"
     ]
    }
   ],
   "source": [
    "print(df.loc[(df['noise'] == 10) & (df['sigma'] == 0.8) & (df['alpha'] == 0.3) & (df['Xi'] == 10) & (df['width'] == 20) & (df['space'] == 20)])"
   ]
  },
  {
   "cell_type": "code",
   "execution_count": 20,
   "metadata": {},
   "outputs": [],
   "source": [
    "sigmas = [0.4, 0.6, 0.8, 1.0, 1.2, 1.4, 1.6, 1.8]\n",
    "Xis = [10, 30, 40]\n",
    "alphas = [0.1, 0.2, 0.3, 0.4, 0.5, 0.6, 0.7, 0.8, 0.9]\n",
    "widths = [20, 30]\n",
    "noises = [2, 3, 4, 5, 10, 20, 30, 50, 100, 200]"
   ]
  },
  {
   "cell_type": "code",
   "execution_count": 83,
   "metadata": {},
   "outputs": [
    {
     "name": "stdout",
     "output_type": "stream",
     "text": [
      "23601    0.693738\n",
      "23606    0.592466\n",
      "23611    0.534247\n",
      "23616    0.510274\n",
      "23621    0.415851\n",
      "23626    0.403620\n",
      "23631    0.397260\n",
      "23636    0.388454\n",
      "23641    0.388943\n",
      "23646    0.387476\n",
      "dtype: float64\n"
     ]
    },
    {
     "data": {
      "image/png": "[encoded data removed]",
      "text/plain": [
       "<matplotlib.figure.Figure at 0x7f5b2c252b70>"
      ]
     },
     "metadata": {},
     "output_type": "display_data"
    }
   ],
   "source": [
    "%matplotlib inline\n",
    "df1 = df.loc[(df['sigma'] == 1.2) & (df['alpha'] == 0.4) & (df['Xi'] == 30) & (df['width'] == 20) \\\n",
    "             & (df['space'] == 20) & (df['canny_sigma'] == 0.5)]\n",
    "\"\"\"\n",
    "ax = df1.plot(x = 'noise', y = 'ledge_pred_sigma', style = '-o', logx = True, ylim = (0.6,1.6))\n",
    "df1.plot(x = 'noise', y = 'ledge_orig_sigma', style = '-*', ax = ax, logx = True)\n",
    "df1.plot(x = 'noise', y = 'leftline_sigma', style = '-*', ax = ax, logx = True)\n",
    "\n",
    "ax = df1.plot(x = 'noise', y = 'redge_pred_sigma', style = '-o', logx = True, ylim = (0.6, 1.6))\n",
    "df1.plot(x = 'noise', y = 'redge_orig_sigma', style = '-*', ax = ax, logx = True)\n",
    "df1.plot(x = 'noise', y = 'rightline_sigma', style = '-*', ax = ax, logx = True)\n",
    "\n",
    "ax = df1.plot(x = 'noise', y = 'lpred_mabse', style = '-o', logx = True)\n",
    "df1.plot(x = 'noise', y = 'lorig_mabse', style = '-*', ax = ax, logx = True)\n",
    "\"\"\"\n",
    "\n",
    "fig, ax = plt.subplots(nrows=1, ncols=3, figsize=(16, 4), subplot_kw={'adjustable': 'box-forced'})\n",
    "\n",
    "print((df1['lpred_mabse'] + df1['rpred_mabse'])/2044)\n",
    "\n",
    "ax[0].plot(noises, df1['line_LWR'],'-')\n",
    "ax[0].plot(noises, df1['orig_LWR'],'-')\n",
    "ax[0].plot(noises, df1['pred_LWR'],'-*')\n",
    "ax[0].set_xscale('log')\n",
    "ax[0].set_ylabel('LWR (nm)')\n",
    "ax[0].set_xlabel('Poisson Noise level')\n",
    "ax[0].set_ylim(0.5,2)\n",
    "\n",
    "ax[1].plot(noises, (df1['lpred_mabse'] + df1['rpred_mabse'])/2044,'-*')\n",
    "ax[1].plot(noises, (df1['lorig_mabse'] + df1['rorig_mabse'])/2044,'-*')\n",
    "ax[1].set_xscale('log')\n",
    "ax[1].set_ylabel('Mean absolute position error')\n",
    "ax[1].set_xlabel('Poisson Noise level')\n",
    "ax[1].set_ylim(0,1.5)\n",
    "\n",
    "\n",
    "ax[2].plot(noises, df1['PSNR_noise'],'-*')\n",
    "ax[2].plot(noises, df1['PSNR_pred'],'-*')\n",
    "ax[2].set_xscale('log')\n",
    "ax[2].set_ylabel('PSNR (dB)')\n",
    "ax[2].set_xlabel('Poisson Noise level')\n",
    "ax[2].set_ylim(0,50)\n",
    "plt.show()"
   ]
  },
  {
   "cell_type": "code",
   "execution_count": 37,
   "metadata": {},
   "outputs": [
    {
     "data": {
      "image/png": "[encoded data removed]",
      "text/plain": [
       "<matplotlib.figure.Figure at 0x7f10c5765898>"
      ]
     },
     "metadata": {},
     "output_type": "display_data"
    }
   ],
   "source": [
    "%matplotlib inline\n",
    "logfile = path + 'neural_nets/SEMNet_run2_epoch4.688288'\n",
    "losses = []\n",
    "with open(logfile,'r') as f:\n",
    "    for line in f:\n",
    "        if 'loss' in line:\n",
    "            losses.append(float(line.split()[-1]))\n",
    "plt.plot(losses)\n",
    "plt.ylabel('MSE Loss')\n",
    "plt.xlabel('Step number')\n",
    "plt.title('Training set loss (logscale)')\n",
    "plt.yscale('log')\n",
    "plt.savefig(path + 'Training_loss.png')\n"
   ]
  },
  {
   "cell_type": "code",
   "execution_count": null,
   "metadata": {},
   "outputs": [],
   "source": []
  }
 ],
 "metadata": {
  "kernelspec": {
   "display_name": "Python 3",
   "language": "python",
   "name": "python3"
  },
  "language_info": {
   "codemirror_mode": {
    "name": "ipython",
    "version": 3
   },
   "file_extension": ".py",
   "mimetype": "text/x-python",
   "name": "python",
   "nbconvert_exporter": "python",
   "pygments_lexer": "ipython3",
   "version": "3.5.2"
  }
 },
 "nbformat": 4,
 "nbformat_minor": 1
}
