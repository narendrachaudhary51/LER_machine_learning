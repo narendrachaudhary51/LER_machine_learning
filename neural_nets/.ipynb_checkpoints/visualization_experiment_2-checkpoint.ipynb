{
 "cells": [
  {
   "cell_type": "code",
   "execution_count": 1,
   "metadata": {
    "collapsed": false
   },
   "outputs": [
    {
     "name": "stderr",
     "output_type": "stream",
     "text": [
      "c:\\users\\narendra\\.conda\\envs\\tensorflow\\lib\\site-packages\\h5py\\__init__.py:34: FutureWarning: Conversion of the second argument of issubdtype from `float` to `np.floating` is deprecated. In future, it will be treated as `np.float64 == np.dtype(float).type`.\n",
      "  from ._conv import register_converters as _register_converters\n",
      "Using TensorFlow backend.\n"
     ]
    }
   ],
   "source": [
    "import tensorflow as tf\n",
    "import numpy as np\n",
    "import math\n",
    "import timeit\n",
    "import matplotlib.pyplot as plt\n",
    "import keras\n",
    "from keras.models import Sequential,load_model, Model\n",
    "from keras.layers import Dense, Dropout, Activation, Flatten, Conv2D, MaxPooling2D, BatchNormalization, Input\n",
    "from keras.constraints import max_norm\n",
    "from keras import backend as K\n",
    "from PIL import Image\n",
    "import skimage\n",
    "\n",
    "K.set_learning_phase(0) #set learning phase"
   ]
  },
  {
   "cell_type": "code",
   "execution_count": 2,
   "metadata": {
    "collapsed": false
   },
   "outputs": [],
   "source": [
    "#path = '/home/grads/n/narendra5/Desktop/Programs/LER_machine_learning/'\n",
    "path = r\"C:\\\\Users\\\\narendra\\\\Documents\\\\LER\\\\LER_machine_learning\\\\\"\n",
    "\n",
    "base_model = load_model(path + 'models/' + 'Linenet_round_L2_epoch_4.h5')\n",
    "layer_dict = dict([(layer.name, layer) for layer in base_model.layers])"
   ]
  },
  {
   "cell_type": "code",
   "execution_count": 3,
   "metadata": {
    "collapsed": false
   },
   "outputs": [
    {
     "name": "stderr",
     "output_type": "stream",
     "text": [
      "c:\\users\\narendra\\.conda\\envs\\tensorflow\\lib\\site-packages\\matplotlib\\pyplot.py:528: RuntimeWarning: More than 20 figures have been opened. Figures created through the pyplot interface (`matplotlib.pyplot.figure`) are retained until explicitly closed and may consume too much memory. (To control this warning, see the rcParam `figure.max_open_warning`).\n",
      "  max_open_warning, RuntimeWarning)\n"
     ]
    }
   ],
   "source": [
    "for layer_name in layer_dict:\n",
    "    if layer_name != 'conv2d_17':\n",
    "        model = Model(inputs=base_model.input, \\\n",
    "                  outputs= base_model.get_layer(layer_name).output)\n",
    "        sigma = 1.6\n",
    "        alpha = 0.5\n",
    "        Xi = 30\n",
    "        width = 20\n",
    "        space = 40\n",
    "        noise = 5\n",
    "        shift = math.floor(-25 + (width + space/2 + Xi + alpha*10 + sigma*10)%16) \n",
    "\n",
    "        path = r\"C:\\\\Users\\\\narendra\\\\Documents\\\\LER\\\\\"\n",
    "        original_file = path + 'original_images2\\\\oim_' + \"{:.2g}\".format(sigma*1e-09) + '_' + str(alpha) + '_' + \"{0:.2g}\".format(Xi*1e-09) + '_' + str(width) + '_' + str(space) + '_' + str(-shift) + '.tiff'\n",
    "        noisy_file = path + 'noisy_images2\\\\nim_' + \"{0:.2g}\".format(sigma*1e-09) + '_' + str(alpha) + '_' + \"{0:.2g}\".format(Xi*1e-09) + '_' + str(width) + '_' + str(space) + '_' + str(-shift) + '_' + str(noise) + '.tiff'\n",
    "\n",
    "\n",
    "        im = np.array(Image.open(original_file))\n",
    "        imnoisy = np.array(Image.open(noisy_file))\n",
    "\n",
    "\n",
    "        im = im/256\n",
    "        imnoisy = (imnoisy)/256\n",
    "        imnoisy = imnoisy.reshape(1,1024,64,1)\n",
    "        impredict = model.predict(imnoisy)\n",
    "        impredict = impredict.reshape(1024,64,64)\n",
    "\n",
    "        fig, ax = plt.subplots(nrows=8, ncols=8, figsize=(8,20), sharex=True,\n",
    "                           sharey=True, subplot_kw={'adjustable': 'box-forced'})\n",
    "        fig.subplots_adjust(wspace= 0.05, hspace=0.05)\n",
    "\n",
    "\n",
    "        for i in range(8):\n",
    "            for j in range(8):\n",
    "                m = impredict[:,:,i*8 +j].max()\n",
    "                if m == 0:\n",
    "                    m = 1\n",
    "                ax[i,j].imshow(impredict[:,:,i*8 +j]/m, cmap = 'gray',aspect= 0.2)\n",
    "\n",
    "        plt.savefig(path + 'Visualization\\\\LineNet1_images\\\\' + layer_name + '.png', dpi = 350)\n"
   ]
  },
  {
   "cell_type": "code",
   "execution_count": 4,
   "metadata": {
    "collapsed": false
   },
   "outputs": [
    {
     "name": "stdout",
     "output_type": "stream",
     "text": [
      "W shape :  (3, 3, 64)\n"
     ]
    },
    {
     "name": "stderr",
     "output_type": "stream",
     "text": [
      "c:\\users\\narendra\\.conda\\envs\\tensorflow\\lib\\site-packages\\matplotlib\\pyplot.py:528: RuntimeWarning: More than 20 figures have been opened. Figures created through the pyplot interface (`matplotlib.pyplot.figure`) are retained until explicitly closed and may consume too much memory. (To control this warning, see the rcParam `figure.max_open_warning`).\n",
      "  max_open_warning, RuntimeWarning)\n"
     ]
    }
   ],
   "source": [
    "# Visualize weights\n",
    "W = model.layers[1].get_weights()[0][:,:,0,:]\n",
    "print(\"W shape : \", W.shape)\n",
    "\n",
    "fig, ax = plt.subplots(nrows=8, ncols=8, figsize=(10, 10), sharex=True,\n",
    "                                   sharey=True, subplot_kw={'adjustable': 'box-forced'})\n",
    "fig.subplots_adjust(wspace= 0.05, hspace=0.05)\n",
    "\n",
    "for i in range(8):\n",
    "    for j in range(8):\n",
    "        ax[i,j].imshow(W[:,:,i*8 +j],cmap = 'gray')\n",
    "\n",
    "plt.savefig(path + 'Visualization\\\\LineNet1_images\\\\first_layer_filter.png', dpi = 350)"
   ]
  },
  {
   "cell_type": "code",
   "execution_count": null,
   "metadata": {
    "collapsed": true
   },
   "outputs": [],
   "source": []
  }
 ],
 "metadata": {
  "kernelspec": {
   "display_name": "Python 3",
   "language": "python",
   "name": "python3"
  },
  "language_info": {
   "codemirror_mode": {
    "name": "ipython",
    "version": 3
   },
   "file_extension": ".py",
   "mimetype": "text/x-python",
   "name": "python",
   "nbconvert_exporter": "python",
   "pygments_lexer": "ipython3",
   "version": "3.5.3"
  }
 },
 "nbformat": 4,
 "nbformat_minor": 0
}
