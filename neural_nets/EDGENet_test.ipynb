{
 "cells": [
  {
   "cell_type": "code",
   "execution_count": 8,
   "metadata": {
    "collapsed": false
   },
   "outputs": [],
   "source": [
    "import numpy as np\n",
    "import matplotlib as plt\n",
    "from keras.models import Sequential, load_model\n",
    "from PIL import Image\n",
    "import timeit,time\n",
    "import math\n",
    "import pandas as pd\n",
    "import matplotlib.pyplot as plt\n",
    "\n",
    "from skimage import measure\n",
    "from scipy import ndimage as ndi\n",
    "from skimage import feature"
   ]
  },
  {
   "cell_type": "code",
   "execution_count": 9,
   "metadata": {
    "collapsed": false
   },
   "outputs": [],
   "source": [
    "#path = '/home/grads/n/narendra5/Desktop/Programs/LER_machine_learning/'\n",
    "path = r\"C:\\\\Users\\\\narendra\\\\Documents\\\\LER\\\\LER_machine_learning\\\\\"\n",
    "#model = load_model(path + 'models/' + 'EDGEnet_run_epoch_4.h5')\n",
    "\n",
    "model = load_model(path + 'models/' + 'EDGEnet2_round_L1_epoch_4.h5')"
   ]
  },
  {
   "cell_type": "code",
   "execution_count": 8,
   "metadata": {
    "collapsed": false
   },
   "outputs": [
    {
     "name": "stdout",
     "output_type": "stream",
     "text": [
      "Testsize:  32\n",
      "Test count:  32\n"
     ]
    }
   ],
   "source": [
    "sigmas = [0.4, 0.6, 0.8, 1.0, 1.2, 1.4, 1.6, 1.8]\n",
    "#Xis = [10, 30, 40]\n",
    "Xis = [10]\n",
    "#alphas = [0.1, 0.2, 0.3, 0.4, 0.5, 0.6, 0.7, 0.8, 0.9]\n",
    "alphas = [0.1]\n",
    "widths = [20, 30]\n",
    "#noises = [2, 3, 4, 5, 10, 20, 30, 50, 100, 200]\n",
    "noises = [200]\n",
    "\n",
    "\n",
    "\n",
    "testsize = len(sigmas)*len(Xis)*len(alphas)*len(widths)*len(noises)*2\n",
    "print('Testsize: ', testsize)\n",
    "\n",
    "\n",
    "df = pd.DataFrame(columns = ['noise', 'sigma', 'alpha', 'Xi', 'width', 'space', 'MSE_noise', \\\n",
    "                             'PSNR_noise', 'Pred_time', 'i_leftline_sigma', 'ledge_pred_sigma',\\\n",
    "                             'i_rightline_sigma',  'redge_pred_sigma',\\\n",
    "                              'lpred_error', 'rpred_error'])\n",
    "                             \n",
    "\n",
    "count = 0\n",
    "for sigma in sigmas:\n",
    "    for alpha in alphas:\n",
    "        for Xi in Xis:\n",
    "            for width in widths:\n",
    "                for s in range(2):\n",
    "                    for noise in noises:\n",
    "                        space = math.floor(width*2**s)\n",
    "                        shift = math.floor(-25 + (width + space/2 + Xi + alpha*10 + sigma*10)%16) \n",
    "                        \n",
    "                        original_file = path + 'original_images2/oim_' + \"{:.2g}\".format(sigma*1e-09) + '_' + str(alpha) + '_' + \"{0:.2g}\".format(Xi*1e-09) + '_' + str(width) + '_' + str(space) + '_' + str(-shift) + '.tiff'\n",
    "                        noisy_file = path + 'noisy_images2/nim_' + \"{0:.2g}\".format(sigma*1e-09) + '_' + str(alpha) + '_' + \"{0:.2g}\".format(Xi*1e-09) + '_' + str(width) + '_' + str(space) + '_' + str(-shift) + '_' + str(noise) + '.tiff'\n",
    "                        linescan_file = path + 'linescans/linescan_' + \"{:.2g}\".format(sigma*1e-09) + '_' + str(alpha) + '_' + \"{0:.2g}\".format(Xi*1e-09) + '_' + str(width) + '_' + str(space) + '.txt'\n",
    "                        linescan = []\n",
    "                        \n",
    "                        with open(linescan_file,'r') as f:\n",
    "                            for i, line in enumerate(f):\n",
    "                                if i < 3000:\n",
    "                                    a, b = line.split(',')\n",
    "                                    linescan.append(float(b))\n",
    "                        \n",
    "                        linescan = linescan[:2048]\n",
    "                        \n",
    "                        leftline = np.array(linescan[:1024]) \n",
    "                        rightline = linescan[1024:]\n",
    "                        rightline.reverse()\n",
    "                        rightline = np.array(rightline)\n",
    "\n",
    "                        leftline = leftline + shift           # add shift to linescan\n",
    "                        rightline = rightline + shift         # add shift to linescan\n",
    "                        \n",
    "                        im = np.array(Image.open(original_file))\n",
    "                        imnoisy = np.array(Image.open(noisy_file))\n",
    "                        \n",
    "                        im = im/256\n",
    "                        imnoisy = imnoisy/256\n",
    "                        imnoisy = imnoisy.reshape(1,1024,64,1)\n",
    "                        im = im.reshape(1,1024,64,1)\n",
    "                        \n",
    "                        start = time.time()\n",
    "                        linepredict = model.predict(imnoisy)\n",
    "                        \n",
    "                        prediction_time = time.time() - start\n",
    "                        \n",
    "                        linepredict = linepredict.reshape(1024,2)\n",
    "                        \n",
    "                        imnoisy = imnoisy.reshape(1024,64)\n",
    "                        im = im.reshape(1024,64)\n",
    "                        imnoisy = imnoisy.astype(float)\n",
    "                        im = im.astype(float)\n",
    "                        \n",
    "                        mse_noisy = (256**2)*((im - imnoisy) ** 2).mean()\n",
    "                        \n",
    "                        psnr_noisy = measure.compare_psnr(im,imnoisy)\n",
    "                        \n",
    "                        \n",
    "                        ledge_pred = (linepredict*64)[:,0].round()\n",
    "                        redge_pred = (linepredict*64)[:,1].round()\n",
    "                        \n",
    "                        \n",
    "                        #lpred_rmse = np.sqrt(((leftline.astype(int) - ledge_pred)**2).mean())\n",
    "                        #rpred_rmse = np.sqrt(((rightline.astype(int) - redge_pred)**2).mean())\n",
    "                        lline_std = leftline.round().std()/2\n",
    "                        rline_std = rightline.round().std()/2\n",
    "                        lpred_std = (ledge_pred).std()/2\n",
    "                        rpred_std = (redge_pred).std()/2\n",
    "                        lerror = (lline_std - lpred_std)*100/lline_std\n",
    "                        rerror = (rline_std - rpred_std)*100/rline_std\n",
    "                        \n",
    "                        df.loc[count] = [noise, sigma, alpha, Xi, width, space, mse_noisy, \\\n",
    "                                         psnr_noisy, prediction_time, \\\n",
    "                                         lline_std, lpred_std,\\\n",
    "                                         rline_std, rpred_std,\\\n",
    "                                         lerror, rerror]\n",
    "                        \n",
    "                        count += 1\n",
    "                        \n",
    "print(\"Test count: \", count)"
   ]
  },
  {
   "cell_type": "code",
   "execution_count": 9,
   "metadata": {
    "collapsed": false
   },
   "outputs": [
    {
     "name": "stdout",
     "output_type": "stream",
     "text": [
      "    noise  sigma  alpha    Xi  width  space  MSE_noise  PSNR_noise  Pred_time  \\\n",
      "0   200.0    0.4    0.1  10.0   20.0   20.0  78.874237   29.195448   2.438454   \n",
      "1   200.0    0.4    0.1  10.0   20.0   40.0  78.937790   29.191950   2.410160   \n",
      "2   200.0    0.4    0.1  10.0   30.0   30.0  87.000046   28.769604   2.417241   \n",
      "3   200.0    0.4    0.1  10.0   30.0   60.0  85.475357   28.846390   2.538191   \n",
      "4   200.0    0.6    0.1  10.0   20.0   20.0  80.693665   29.096405   2.371456   \n",
      "5   200.0    0.6    0.1  10.0   20.0   40.0  78.889496   29.194607   2.337290   \n",
      "6   200.0    0.6    0.1  10.0   30.0   30.0  88.053833   28.717317   2.407065   \n",
      "7   200.0    0.6    0.1  10.0   30.0   60.0  89.955612   28.624517   2.370790   \n",
      "8   200.0    0.8    0.1  10.0   20.0   20.0  81.955170   29.029036   2.328459   \n",
      "9   200.0    0.8    0.1  10.0   20.0   40.0  79.285904   29.172839   2.330015   \n",
      "10  200.0    0.8    0.1  10.0   30.0   30.0  90.243546   28.610638   2.329842   \n",
      "11  200.0    0.8    0.1  10.0   30.0   60.0  89.669510   28.638351   2.375485   \n",
      "12  200.0    1.0    0.1  10.0   20.0   20.0  80.036209   29.131934   2.325608   \n",
      "13  200.0    1.0    0.1  10.0   20.0   40.0  80.587708   29.102111   2.318229   \n",
      "14  200.0    1.0    0.1  10.0   30.0   30.0  90.854233   28.581348   2.332184   \n",
      "15  200.0    1.0    0.1  10.0   30.0   60.0  88.320175   28.704200   2.327332   \n",
      "16  200.0    1.2    0.1  10.0   20.0   20.0  81.586533   29.048615   2.324510   \n",
      "17  200.0    1.2    0.1  10.0   20.0   40.0  82.623352   28.993771   2.318922   \n",
      "18  200.0    1.2    0.1  10.0   30.0   30.0  92.665451   28.495621   2.330873   \n",
      "19  200.0    1.2    0.1  10.0   30.0   60.0  90.757706   28.585964   2.325897   \n",
      "20  200.0    1.4    0.1  10.0   20.0   20.0  84.987579   28.871245   2.329849   \n",
      "21  200.0    1.4    0.1  10.0   20.0   40.0  82.367508   29.007240   2.324646   \n",
      "22  200.0    1.4    0.1  10.0   30.0   30.0  91.793121   28.536698   2.323589   \n",
      "23  200.0    1.4    0.1  10.0   30.0   60.0  92.533249   28.501821   2.368155   \n",
      "24  200.0    1.6    0.1  10.0   20.0   20.0  82.033661   29.024878   2.404848   \n",
      "25  200.0    1.6    0.1  10.0   20.0   40.0  85.132889   28.863826   2.401155   \n",
      "26  200.0    1.6    0.1  10.0   30.0   30.0  91.825745   28.535155   2.339857   \n",
      "27  200.0    1.6    0.1  10.0   30.0   60.0  92.700134   28.493996   2.328048   \n",
      "28  200.0    1.8    0.1  10.0   20.0   20.0  85.530624   28.843583   2.321506   \n",
      "29  200.0    1.8    0.1  10.0   20.0   40.0  84.790634   28.881320   2.324335   \n",
      "30  200.0    1.8    0.1  10.0   30.0   30.0  92.339859   28.510907   2.328356   \n",
      "31  200.0    1.8    0.1  10.0   30.0   60.0  94.098221   28.428985   2.352587   \n",
      "\n",
      "    i_leftline_sigma  ledge_pred_sigma  i_rightline_sigma  redge_pred_sigma  \\\n",
      "0           0.320858          0.323170           0.308569          0.314977   \n",
      "1           0.305736          0.308964           0.322800          0.245826   \n",
      "2           0.324407          0.337110           0.328104          0.326772   \n",
      "3           0.315564          0.327621           0.313770          0.316826   \n",
      "4           0.445698          0.441320           0.444953          0.427939   \n",
      "5           0.436028          0.443166           0.432916          0.426092   \n",
      "6           0.433506          0.435748           0.450965          0.402807   \n",
      "7           0.432933          0.437888           0.458846          0.440197   \n",
      "8           0.549325          0.549380           0.555435          0.455664   \n",
      "9           0.551974          0.552827           0.581480          0.557150   \n",
      "10          0.631047          0.635228           0.572521          0.512522   \n",
      "11          0.570710          0.549599           0.565936          0.445775   \n",
      "12          0.732866          0.731184           0.687841          0.686778   \n",
      "13          0.707700          0.708053           0.693335          0.676913   \n",
      "14          0.719555          0.715715           0.697449          0.650760   \n",
      "15          0.682820          0.674289           0.761236          0.720737   \n",
      "16          0.901264          0.897130           0.845115          0.839451   \n",
      "17          0.870639          0.867044           0.899901          0.941366   \n",
      "18          0.898798          0.890792           0.858572          0.822716   \n",
      "19          0.799243          0.795135           0.901929          0.853694   \n",
      "20          0.989542          0.982688           1.060401          1.038615   \n",
      "21          0.957760          0.947641           0.984088          0.967138   \n",
      "22          0.988256          0.984747           0.940158          0.902263   \n",
      "23          0.945098          0.936327           1.001947          0.976782   \n",
      "24          1.075702          1.063311           1.128120          1.070548   \n",
      "25          1.118900          1.104781           1.111284          1.076506   \n",
      "26          1.101108          1.093734           1.105676          1.075075   \n",
      "27          1.122392          1.115173           1.150162          1.123166   \n",
      "28          1.292135          1.274215           1.233052          1.184489   \n",
      "29          1.246476          1.217713           1.214660          1.163593   \n",
      "30          1.323824          1.304752           1.221514          1.189406   \n",
      "31          1.254432          1.237409           1.274550          1.229054   \n",
      "\n",
      "    lpred_error  rpred_error  \n",
      "0     -0.720304    -2.076671  \n",
      "1     -1.055996    23.845915  \n",
      "2     -3.916009     0.406001  \n",
      "3     -3.820973    -0.974221  \n",
      "4      0.982219     3.823581  \n",
      "5     -1.636918     1.576135  \n",
      "6     -0.517236    10.678841  \n",
      "7     -1.144391     4.064457  \n",
      "8     -0.010069    17.962586  \n",
      "9     -0.154397     4.184213  \n",
      "10    -0.662578    10.479800  \n",
      "11     3.699115    21.232297  \n",
      "12     0.229621     0.154495  \n",
      "13    -0.049842     2.368460  \n",
      "14     0.533568     6.694229  \n",
      "15     1.249469     5.320179  \n",
      "16     0.458715     0.670262  \n",
      "17     0.412895    -4.607696  \n",
      "18     0.890742     4.176198  \n",
      "19     0.514028     5.347997  \n",
      "20     0.692641     2.054569  \n",
      "21     1.056529     1.722384  \n",
      "22     0.355081     4.030746  \n",
      "23     0.928020     2.511601  \n",
      "24     1.151933     5.103340  \n",
      "25     1.261909     3.129532  \n",
      "26     0.669656     2.767616  \n",
      "27     0.643173     2.347092  \n",
      "28     1.386836     3.938409  \n",
      "29     2.307582     4.204201  \n",
      "30     1.440660     2.628504  \n",
      "31     1.357006     3.569557  \n"
     ]
    }
   ],
   "source": [
    "print(df)"
   ]
  },
  {
   "cell_type": "code",
   "execution_count": 11,
   "metadata": {
    "collapsed": false
   },
   "outputs": [
    {
     "name": "stdout",
     "output_type": "stream",
     "text": [
      "[11160, 22320, 33480, 44640]\n"
     ]
    },
    {
     "data": {
      "image/png": "[encoded data removed]",
      "text/plain": [
       "<matplotlib.figure.Figure at 0x194baddbac8>"
      ]
     },
     "metadata": {},
     "output_type": "display_data"
    },
    {
     "name": "stdout",
     "output_type": "stream",
     "text": [
      "range(11160, 55800, 11160)\n"
     ]
    }
   ],
   "source": [
    "%matplotlib inline\n",
    "logfile = path + 'neural_nets/EDGEnet2_round_L1_epoch4.748390'\n",
    "losses = []\n",
    "validation_score = []\n",
    "with open(logfile,'r') as f:\n",
    "    for line in f:\n",
    "        if 'loss' in line:\n",
    "            losses.append(float(line.split()[-1]))\n",
    "        if 'Validation score' in line:\n",
    "            validation_score.append(float(line.split()[-1]))\n",
    "\n",
    "num_of_runs = range(len(losses))\n",
    "val_runs = range(len(losses)//4, len(losses) + len(losses)//4, len(losses)//4)\n",
    "print(list(val_runs))\n",
    "plt.plot(num_of_runs, losses, label = 'Training Loss')\n",
    "plt.plot(val_runs, validation_score, '-o', label = 'Validation Loss')\n",
    "plt.ylabel('MAE Loss')\n",
    "plt.xlabel('Step number')\n",
    "plt.title('Training loss (logscale)')\n",
    "plt.yscale('log')\n",
    "plt.savefig(path + 'Training_loss.png')\n",
    "plt.legend()\n",
    "plt.show()\n",
    "print(val_runs)"
   ]
  },
  {
   "cell_type": "code",
   "execution_count": null,
   "metadata": {
    "collapsed": true
   },
   "outputs": [],
   "source": []
  }
 ],
 "metadata": {
  "kernelspec": {
   "display_name": "Python 3",
   "language": "python",
   "name": "python3"
  },
  "language_info": {
   "codemirror_mode": {
    "name": "ipython",
    "version": 3
   },
   "file_extension": ".py",
   "mimetype": "text/x-python",
   "name": "python",
   "nbconvert_exporter": "python",
   "pygments_lexer": "ipython3",
   "version": "3.5.3"
  }
 },
 "nbformat": 4,
 "nbformat_minor": 2
}
